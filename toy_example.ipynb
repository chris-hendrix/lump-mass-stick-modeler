{
 "metadata": {
  "language_info": {
   "codemirror_mode": {
    "name": "ipython",
    "version": 3
   },
   "file_extension": ".py",
   "mimetype": "text/x-python",
   "name": "python",
   "nbconvert_exporter": "python",
   "pygments_lexer": "ipython3",
   "version": "3.8.5"
  },
  "orig_nbformat": 2,
  "kernelspec": {
   "name": "python385jvsc74a57bd0b3ba2566441a7c06988d0923437866b63cedc61552a5af99d1f4fb67d367b25f",
   "display_name": "Python 3.8.5 64-bit (conda)"
  }
 },
 "nbformat": 4,
 "nbformat_minor": 2,
 "cells": [
  {
   "source": [
    "#Tuned-Mass Damper Toy"
   ],
   "cell_type": "markdown",
   "metadata": {}
  },
  {
   "source": [
    "## Setup"
   ],
   "cell_type": "markdown",
   "metadata": {}
  },
  {
   "source": [
    "### Import packages"
   ],
   "cell_type": "markdown",
   "metadata": {}
  },
  {
   "cell_type": "code",
   "execution_count": 1,
   "metadata": {},
   "outputs": [],
   "source": [
    "import numpy as np\n",
    "import pandas as pd\n",
    "import math\n",
    "import matplotlib.pyplot as plt\n",
    "import matplotlib.animation as animation\n",
    "import time\n",
    "from lumped_mass_stick_modeler import LumpedMassStickModel\n",
    "from IPython.display import HTML\n",
    "#import ipympl\n",
    "#%matplotlib ipympl\n",
    "%matplotlib widget\n",
    "%load_ext autoreload\n",
    "%reload_ext autoreload\n",
    "%autoreload 2\n"
   ]
  },
  {
   "cell_type": "code",
   "execution_count": null,
   "metadata": {},
   "outputs": [],
   "source": []
  },
  {
   "source": [
    "## Define loading paramaters"
   ],
   "cell_type": "markdown",
   "metadata": {}
  },
  {
   "cell_type": "code",
   "execution_count": 2,
   "metadata": {},
   "outputs": [
    {
     "output_type": "display_data",
     "data": {
      "text/plain": "Canvas(toolbar=Toolbar(toolitems=[('Home', 'Reset original view', 'home', 'home'), ('Back', 'Back to previous …",
      "application/vnd.jupyter.widget-view+json": {
       "version_major": 2,
       "version_minor": 0,
       "model_id": "b17f80dfd3b246e0b4389efc05bd825a"
      }
     },
     "metadata": {}
    }
   ],
   "source": [
    "# time paramaters\n",
    "tmax = 60\n",
    "dt = 0.1\n",
    "steps = int(tmax/dt)\n",
    "t = np.arange(steps) * dt\n",
    "\n",
    "# load paramaters\n",
    "fp = 0.15\n",
    "psin = 1*np.sin(2*math.pi*fp*t)\n",
    "pzero = 0*t\n",
    "\n",
    "# excite the first mass\n",
    "p_mat = [psin]\n",
    "fig, ax = plt.subplots(1,1, figsize=(4,2))\n",
    "ax.set_title('Loading')\n",
    "plt.plot(t, psin)\n",
    "plt.show()"
   ]
  },
  {
   "source": [
    "## Control model"
   ],
   "cell_type": "markdown",
   "metadata": {}
  },
  {
   "cell_type": "code",
   "execution_count": 4,
   "metadata": {},
   "outputs": [
    {
     "output_type": "display_data",
     "data": {
      "text/plain": "Canvas(toolbar=Toolbar(toolitems=[('Home', 'Reset original view', 'home', 'home'), ('Back', 'Back to previous …",
      "application/vnd.jupyter.widget-view+json": {
       "version_major": 2,
       "version_minor": 0,
       "model_id": "b9dfbacae42d4a9492616a98f5635639"
      }
     },
     "metadata": {}
    }
   ],
   "source": [
    "# model input\n",
    "m = 1\n",
    "k = 1\n",
    "xi = 0.05\n",
    "wn = math.sqrt(k/m)\n",
    "c = 2*xi*wn*m\n",
    "\n",
    "# define model\n",
    "ctrl = LumpedMassStickModel([m], [k], [c], [psin], dt, name='Control')\n",
    "\n",
    "# plot anaimation\n",
    "fig, axs = plt.subplots(1,1, figsize=(2,4))\n",
    "ani = ctrl.get_animation(fig=fig,ax=axs,mode=0)\n",
    "plt.show()"
   ]
  },
  {
   "source": [
    "## Tuned mass damper"
   ],
   "cell_type": "markdown",
   "metadata": {}
  },
  {
   "cell_type": "code",
   "execution_count": 5,
   "metadata": {},
   "outputs": [],
   "source": [
    "md = 0.05*m\n",
    "mbar = md/m\n",
    "fopt = math.sqrt(1-.5*mbar)/(1+mbar)\n",
    "xidopt = math.sqrt(\n",
    "    mbar*(3-math.sqrt(.5*mbar))/\n",
    "    (8*(1+mbar)*(1-.05*mbar))\n",
    ")\n",
    "kd = mbar*fopt**2*k\n",
    "wnd = math.sqrt(kd/md)\n",
    "cd = 2*xidopt*wnd*md"
   ]
  },
  {
   "cell_type": "code",
   "execution_count": 7,
   "metadata": {},
   "outputs": [
    {
     "output_type": "display_data",
     "data": {
      "text/plain": "Canvas(toolbar=Toolbar(toolitems=[('Home', 'Reset original view', 'home', 'home'), ('Back', 'Back to previous …",
      "application/vnd.jupyter.widget-view+json": {
       "version_major": 2,
       "version_minor": 0,
       "model_id": "56eb7a66a6ee4edb957b5e7f540c8a09"
      }
     },
     "metadata": {}
    }
   ],
   "source": [
    "tmd = LumpedMassStickModel([m, md], [k, kd], [c, cd], [psin, pzero], dt, name=\"Tuned-Mass Damper\")\n",
    "\n",
    "# plot anaimation\n",
    "fig, axs = plt.subplots(1,1, figsize=(2,4))\n",
    "ani = tmd.get_animation(mode=0,fig=fig,ax=axs)\n",
    "plt.show()"
   ]
  },
  {
   "source": [
    "## Comparison"
   ],
   "cell_type": "markdown",
   "metadata": {}
  },
  {
   "cell_type": "code",
   "execution_count": 8,
   "metadata": {},
   "outputs": [
    {
     "output_type": "display_data",
     "data": {
      "text/plain": "Canvas(toolbar=Toolbar(toolitems=[('Home', 'Reset original view', 'home', 'home'), ('Back', 'Back to previous …",
      "application/vnd.jupyter.widget-view+json": {
       "version_major": 2,
       "version_minor": 0,
       "model_id": "ce2a96617c1248daad93b30373654da3"
      }
     },
     "metadata": {}
    }
   ],
   "source": [
    "fig, ax = plt.subplots(figsize=(5,3))\n",
    "ctrl.get_time_history_plt(ax)\n",
    "tmd.get_time_history_plt(ax)\n",
    "plt.legend()\n",
    "plt.show()"
   ]
  },
  {
   "cell_type": "code",
   "execution_count": null,
   "metadata": {},
   "outputs": [],
   "source": []
  }
 ]
}