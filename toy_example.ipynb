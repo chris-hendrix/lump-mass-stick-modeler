{
  "nbformat": 4,
  "nbformat_minor": 0,
  "metadata": {
    "language_info": {
      "codemirror_mode": {
        "name": "ipython",
        "version": 3
      },
      "file_extension": ".py",
      "mimetype": "text/x-python",
      "name": "python",
      "nbconvert_exporter": "python",
      "pygments_lexer": "ipython3",
      "version": "3.8.5"
    },
    "orig_nbformat": 2,
    "kernelspec": {
      "name": "python385jvsc74a57bd0b3ba2566441a7c06988d0923437866b63cedc61552a5af99d1f4fb67d367b25f",
      "display_name": "Python 3.8.5 64-bit (conda)"
    },
    "colab": {
      "name": "toy_example.ipynb",
      "provenance": [],
      "toc_visible": true
    }
  },
  "cells": [
    {
      "cell_type": "markdown",
      "metadata": {
        "id": "_D14oTTUVI88"
      },
      "source": [
        "#Tuned-Mass Damper Toy"
      ]
    },
    {
      "cell_type": "markdown",
      "metadata": {
        "id": "EAR8CO6-VI8-"
      },
      "source": [
        "## Setup"
      ]
    },
    {
      "cell_type": "code",
      "metadata": {
        "colab": {
          "base_uri": "https://localhost:8080/"
        },
        "id": "v9edZ898Xywq",
        "outputId": "6ba62e5f-5675-4d9c-dc36-b768991feb91"
      },
      "source": [
        "# get lumped mass stick modeler package\n",
        "!wget https://raw.githubusercontent.com/chris-hendrix/lumped-mass-stick-modeler/main/lumped_mass_stick_modeler.py\n"
      ],
      "execution_count": 3,
      "outputs": [
        {
          "output_type": "stream",
          "text": [
            "--2021-05-08 14:34:25--  https://raw.githubusercontent.com/chris-hendrix/lumped-mass-stick-modeler/main/lumped_mass_stick_modeler.py\n",
            "Resolving raw.githubusercontent.com (raw.githubusercontent.com)... 185.199.108.133, 185.199.109.133, 185.199.110.133, ...\n",
            "Connecting to raw.githubusercontent.com (raw.githubusercontent.com)|185.199.108.133|:443... connected.\n",
            "HTTP request sent, awaiting response... 200 OK\n",
            "Length: 6314 (6.2K) [text/plain]\n",
            "Saving to: ‘lumped_mass_stick_modeler.py.1’\n",
            "\n",
            "\r          lumped_ma   0%[                    ]       0  --.-KB/s               \rlumped_mass_stick_m 100%[===================>]   6.17K  --.-KB/s    in 0s      \n",
            "\n",
            "2021-05-08 14:34:25 (73.6 MB/s) - ‘lumped_mass_stick_modeler.py.1’ saved [6314/6314]\n",
            "\n"
          ],
          "name": "stdout"
        }
      ]
    },
    {
      "cell_type": "markdown",
      "metadata": {
        "id": "M3CsQUCcVI8_"
      },
      "source": [
        "### Import packages"
      ]
    },
    {
      "cell_type": "code",
      "metadata": {
        "id": "MUiKPFT6VI9A"
      },
      "source": [
        "import numpy as np\n",
        "import pandas as pd\n",
        "import math\n",
        "import matplotlib.pyplot as plt\n",
        "import matplotlib.animation as animation\n",
        "import time\n",
        "from lumped_mass_stick_modeler import LumpedMassStickModel\n",
        "from IPython.display import HTML\n"
      ],
      "execution_count": 4,
      "outputs": []
    },
    {
      "cell_type": "code",
      "metadata": {
        "id": "yXnWolGvVI9A"
      },
      "source": [
        ""
      ],
      "execution_count": null,
      "outputs": []
    },
    {
      "cell_type": "markdown",
      "metadata": {
        "id": "EbaBpvoZVI9B"
      },
      "source": [
        "## Define loading paramaters"
      ]
    },
    {
      "cell_type": "code",
      "metadata": {
        "colab": {
          "base_uri": "https://localhost:8080/",
          "height": 173
        },
        "id": "Er58wrUPVI9B",
        "outputId": "ca7e8f2b-1589-4853-cba7-052101b02970"
      },
      "source": [
        "# time paramaters\n",
        "tmax = 60\n",
        "dt = 0.1\n",
        "steps = int(tmax/dt)\n",
        "t = np.arange(steps) * dt\n",
        "\n",
        "# load paramaters\n",
        "fp = 0.15\n",
        "psin = 1*np.sin(2*math.pi*fp*t)\n",
        "pzero = 0*t\n",
        "\n",
        "# excite the first mass\n",
        "p_mat = [psin]\n",
        "fig, ax = plt.subplots(1,1, figsize=(4,2))\n",
        "ax.set_title('Loading')\n",
        "plt.plot(t, psin)\n",
        "plt.show()"
      ],
      "execution_count": 5,
      "outputs": [
        {
          "output_type": "display_data",
          "data": {
            "image/png": "[encoded data removed]",
            "text/plain": [
              "<Figure size 288x144 with 1 Axes>"
            ]
          },
          "metadata": {
            "tags": [],
            "needs_background": "light"
          }
        }
      ]
    },
    {
      "cell_type": "markdown",
      "metadata": {
        "id": "WDWHxxlDVI9B"
      },
      "source": [
        "## Control model"
      ]
    },
    {
      "cell_type": "code",
      "metadata": {
        "colab": {
          "base_uri": "https://localhost:8080/",
          "height": 602
        },
        "id": "wuwLmj78VI9C",
        "outputId": "d08854e0-18b4-4f30-d0bf-01dd2fdb31bf"
      },
      "source": [
        "# model input\n",
        "m = 1\n",
        "k = 1\n",
        "xi = 0.05\n",
        "wn = math.sqrt(k/m)\n",
        "c = 2*xi*wn*m\n",
        "\n",
        "# define model\n",
        "ctrl = LumpedMassStickModel([m], [k], [c], [psin], dt, name='Control')\n",
        "\n",
        "# plot anaimation\n",
        "fig, axs = plt.subplots(1,1, figsize=(2,4))\n",
        "ani = ctrl.get_animation(fig=fig,ax=axs,mode=0)\n",
        "HTML(ani.to_html5_video())"
      ],
      "execution_count": 7,
      "outputs": [
        {
          "output_type": "execute_result",
          "data": {
            "text/html": [
              "<video width=\"144\" height=\"288\" controls autoplay loop>\n",
              "  <source type=\"video/mp4\" src=\"data:video/mp4;base64,AAAAHGZ0eXBNNFYgAAACAGlzb21pc28yYXZjMQAAAAhmcmVlAAAfpG1kYXQAAAKuBgX//6rcRem9\n",
              "5tlIt5Ys2CDZI+7veDI2NCAtIGNvcmUgMTUyIHIyODU0IGU5YTU5MDMgLSBILjI2NC9NUEVHLTQg\n",
              "QVZDIGNvZGVjIC0gQ29weWxlZnQgMjAwMy0yMDE3IC0gaHR0cDovL3d3dy52aWRlb2xhbi5vcmcv\n",
              "eDI2NC5odG1sIC0gb3B0aW9uczogY2FiYWM9MSByZWY9MyBkZWJsb2NrPTE6MDowIGFuYWx5c2U9\n",
              "MHgzOjB4MTEzIG1lPWhleCBzdWJtZT03IHBzeT0xIHBzeV9yZD0xLjAwOjAuMDAgbWl4ZWRfcmVm\n",
              "PTEgbWVfcmFuZ2U9MTYgY2hyb21hX21lPTEgdHJlbGxpcz0xIDh4OGRjdD0xIGNxbT0wIGRlYWR6\n",
              "b25lPTIxLDExIGZhc3RfcHNraXA9MSBjaHJvbWFfcXBfb2Zmc2V0PS0yIHRocmVhZHM9MyBsb29r\n",
              "YWhlYWRfdGhyZWFkcz0xIHNsaWNlZF90aHJlYWRzPTAgbnI9MCBkZWNpbWF0ZT0xIGludGVybGFj\n",
              "ZWQ9MCBibHVyYXlfY29tcGF0PTAgY29uc3RyYWluZWRfaW50cmE9MCBiZnJhbWVzPTMgYl9weXJh\n",
              "bWlkPTIgYl9hZGFwdD0xIGJfYmlhcz0wIGRpcmVjdD0xIHdlaWdodGI9MSBvcGVuX2dvcD0wIHdl\n",
              "aWdodHA9MiBrZXlpbnQ9MjUwIGtleWludF9taW49MTAgc2NlbmVjdXQ9NDAgaW50cmFfcmVmcmVz\n",
              "aD0wIHJjX2xvb2thaGVhZD00MCByYz1jcmYgbWJ0cmVlPTEgY3JmPTIzLjAgcWNvbXA9MC42MCBx\n",
              "cG1pbj0wIHFwbWF4PTY5IHFwc3RlcD00IGlwX3JhdGlvPTEuNDAgYXE9MToxLjAwAIAAAAvnZYiE\n",
              "ABH//veIHzLLafk613IN096/7GdKYA6Z8o22+mwmvVMQjsy3YEJ4d/+5NfW5AgXg9MwelY/iMDGC\n",
              "L4Lj/urkvjSuaybO0Ponnb4wwaUvGIHFevR3EI3rUCJqJRtxr8FptyR9rWg0sq7yBWVGoGl4QQod\n",
              "XqM8eHy1fKwJGA9S8xlV4OJuU99Nayv0CqL4RJxH90RQJFy6ORy74uXBL5573Cv674NCni3pMGI5\n",
              "qUudfv+phlLqTcq+LR5z7pw7tBtCjd20W8BWZg+Mtlsc6U96kzww02/ODGRBRdbodwyPkondzvpu\n",
              "w2dzwPHC71fgAzoGa58HeHs5rvbCAVeeubv1XRUQJVZIn7aKRC1WmxhDtEk1kHTX7knMfVGUnzmL\n",
              "riXFeyfeMiAH/OImsmjfQ+9IH60qK2BneTelGoyXiLsvqhmjWXhAJwI5TZvndXuCKdXUq0hllQUo\n",
              "y4NAwI9F3491XUHaMdQf3aUOfbtS/3q4HpswDp5frjYWbDpfrVS7n7hT7AR8jl2B+biI7AktMrUU\n",
              "GCBsEWsL3O/1kq5w6cVEwgxaE2ErVd/5unJE1KQb0cAzlnMR47iNNllQm+dfUQTLHBeEKUmh3uZn\n",
              "6+O//3z3yhNY466SKBHM3geNQcIO3mOXks6OioS6IdKsQ77MSFnzSgFY/hH4bzGfOYC46NgTM2A/\n",
              "X4qsOdJm4mE1vxhLJNLIR6MWeSoUX9z7UEBvT8Sf2mu5zpiHRr59nFwR+ohACjtSgaj9VKv80qs0\n",
              "NpqMzOSTD8Aat490vsmE0i31uIqufxbR1t/fxYL0JNDOBUioRI9TFTAYV8pKhDqpdJKcNb3csZ2M\n",
              "+PtueLlatlYbepKvLT8dyb144p/TdyeXOQcroHJvZ2iX9rV5KVf9AbEUZBzpr//9sHdet03MwgkE\n",
              "3rL98xDeB6uqhOPeOwiVlaVr076MUUQgjnYG0E9ZbNVeqf8gzLAOj9XHFiawntq4NXVt//PlLeIQ\n",
              "5A5dL3frx+oBKuouCGXdSm0sBXkLkU5MAQJIMnMjdG1wg2/PZGiR0hBgSJwGmKrW9aR2/taeYB5A\n",
              "k6wI3I6Us36xx+0iLpzwdKYCLHDH2qBqzfomGwr4i21ZiO0avDbF/aUdhKhMHYIWnEVMeX1X0DAk\n",
              "Rab5UWqCS7TMT+/+LhgT1Yzd9gqqxXEo8GoPTxhBFFBmGqej0T5muDPZyIUhVa7VjgoLRS3kkpm/\n",
              "2aeVEktmNOyrXzRvK1Prppcz6e95a2PHb1y8iAI/hZTuJzSX65wDS8XsjKHVVMOR9oa4JLm6JocP\n",
              "fnB5DDw8ZjXtP1rvmooMnuTHBcqZaT8DVna1VK2P9TE+WwZKqqrAvfgDJqy9+M5Zo/95QqUn5H1H\n",
              "76Mdg9Yo0tW+BlYzeFnYMidAlQV2+S++w1A+SDfy7dvhvLcxWSAf/cN10O/s6CASGIxvaub8WO7I\n",
              "9u1axg+togmee1ZyqTjLPq+jEl2+vAQ2j+ON6UjMbcN3XzjZWt1YI2XUTS+ytbvuVBixa5rDCXbo\n",
              "1Yq0sZhc/fAo2JfJh8+FP6i33Md39vZ6HCSxcYF9nFz8LmpRm+1k5TGjiIcdcFbj/17VLO/OUEF6\n",
              "SQhTXKjb2J0DXNUgm+41bAGpXASp3ql1gC3Pazc2paHLc51XHMIg9wDSmxpYwPZ5wIovYsTn3243\n",
              "SEK3jaIBisNQcCzxUmAews/qC9a6J1+FaOg+0/Y2ume4xUlm4YwQUnRLMnovdyabLDLzmM9xRCOZ\n",
              "v5sWraUonUGwi0+KB+YEeppFmlOoLayeX+0FBM5gQs6fcc0+W3rEWkcqU97n7stGqwVtsJi/6du2\n",
              "QoABmsNb3/GbNl5jOxaR97J03oQETyS4Upu98pF9eMiBs9SNyyhoPbfi8ewudLIwWnbU/UIvr+sN\n",
              "VmrNy3tPFEvWJuekhi7ieM1KXYYprtdX32geml3Dc3e0ppy1oyqEaed2VkOmj8I6PzFmXW04pDSy\n",
              "fVmStTMwAfvzjsCcyIvUUUYVh10CvzI1D5zwgPr7moizTBISzNHwTyiRe4qlE3kqFrI5nO26ygou\n",
              "JQFd05lscR/6zQWRnj+MXCXjZbJ9ydQP4V0r95Y3VsBJQAvqizgQ2ndmWnBvXc12JMMlBtoAMZxU\n",
              "bqNTVQ/zo8dYyi0q7i+VZ+kVHunM3txkJg9DAkhAnt+oisf/hMKJrISjwnmAAcXmuSBTSiiLDet5\n",
              "lyTifp2nIui9zRkdD0q1X4f8wdjXtFgiRMFAcuSWSPqygjtx9V2w7htxcQ0RoKy8zCnd3Rw7H0l/\n",
              "nEkhvNyMZxr3+K3/Vts7z3+yJ2ZV51a3gyvKc9iAiQX6BY0qU4NDSKo3Woaym0EzUMdRV5zSR++s\n",
              "ZitjQPmw57tgfQmi2oh8JZxqjrpZeExtLv8EijL6Nu59cUw3PqsWMYPrXEcge6eWY65l9gpm6Oo/\n",
              "Q94PrXGkHdAxRcdmuWRckRX/8qHws9OWPmdAZte+Kh3JiO3P+y8/dvTS0Aat9Ao5BUtbXxfaISaZ\n",
              "BVJ6+vvgAM80reufi/HIBrCzDPc8ElKecz03gR/LEyauxaGf6WHhR3a1h06VWS+sQeB87iwpZbHb\n",
              "PhHt3zTsbkzUbn6DobXpxFWLcHGJSZeAB1Dmj6noiA0ML1eJTwJVCbcxMsJmIS8Q18XDt7Vmy3EK\n",
              "mKNA71xMmL+keUuHm56+K/OwW85edAl5GM2KuUB+vOyeNyQG9hd6kXuWwPGJX18kfU8jAwMkOk6J\n",
              "Of5M0KeMK/Lz0UDJC03XV7/U+IYxEy/obPPQmRPs3vSLN6H8ONgxiNCnJtcS+CndNoE1Qj+LiZn9\n",
              "XIVsFCLeGgSQUAJ8LJmxJgRHTHQLuH6VotclSUMPWG6QrgWXhiAz5h5OtiQg7O5vOyfegU+v7N3D\n",
              "zEIkAekSDSLJfkGjNL/dsvQJh5Izdxv78Mf+jfPNaagrJ5yZ8TLSpXXckvuIv5Njvn2fAvFmFmAv\n",
              "h5i/0sxyvnLT7dRW1OBM9XbBTETKfHEyf7E7KwaYes+r5jh8H8KlUOyIVHL7PL+7uvK1lqnxS/K+\n",
              "966f6owl1X6opp4zjZSHYQ1MdiaAx4ooSAromMxcolMTjCEAhw/G3aOUPSOfvjQRZBWHwAaOtxmP\n",
              "ft/ll7gINKyr0zU4C/0RnwAZT/7Jz/DY46YClRLrHg6duOm9zOAym16Lfz4NM1gjgTATLshGr8/Y\n",
              "vtY7R255cszKINGv9nVt64R92Mbj9+inmGjPg1i048sv/0Ci5mFdBKuupVX4v/gUyxxUEe9bNtT/\n",
              "ybMLAJCLIHIPF/yhPYV/EzfZx/aTE7Rf5q2K+eH//kTZBpu+JVb4DP6VQzXIawlcmE+0vNTnwyRZ\n",
              "JOiySVOqZlVUpsV1zd74dpvEoKKeD8Jt3NljSno76Ur9rQ7LdPbR/B9rPZqt/N39mFfptiS2112E\n",
              "PgjiWVZ2bWHVTA8yLI3LGlz36Tryby/zoIsPZsHghLlxQyTgswmQOgaDMqkSqh0OKCfpfbfiVLYI\n",
              "f/rREmMmU7iV2/2PWzUGFIkSoyN3mkEpxOi2PoC9RqsWlIVxZWtkV8qQDTiWWcvPZI4AttSIJlPP\n",
              "XYcqLDXNFq0x3yfscuj1J5PGebNONxPNfVlNWY20HbgWMzSyWR/H1dOEfUKbRXPYTxJbFKwBrWD2\n",
              "vO7cuHecvFVUsgVsGIL0qm4L/BxIsrTQkhQd6KBMux7bX/QehQx2tReC/tzH1J2suSK9dyCMVw0N\n",
              "qxH5geOcDMA7+pXl1ju3do5Qgo2gFderQFB4jO87vMQWbgzDAg2F2dVAzdjwUe5BsSK8IHayY3gD\n",
              "vbfP7hTB2wYPTRGyWGzvfdz3vei+017M3RH0B5AnxjpgjKfp44hReoaFwCwOcs1+tFj5tZO0oWG6\n",
              "G+SD6GfZb9dlClOAIResdf8SDmoW5Xf2OGWORQYkVisaDG+Q4l8lj17US+/BGpmVoHtfbEkRBhZ/\n",
              "i0txgh9SdPrhtuXl02WFqghEC0ht7gYKzdNT3+yg2Vabod6dFTk1XLLUnk0kGTGCeHIxulNDDYKd\n",
              "hDb4rKB4ixtEHuC5QWT/dfbBmXcCLhEAAAGfQZojbEEf/rTwOQXAHRSWLi4rQEY5TvvhydGDMn50\n",
              "G8fBgwShSWS+PiUi6LrEQ1TGhyB+82kvGbO7MEmWMMmUP+PFTo9vUR47+hnVCnZE1Aerw1a0DUM3\n",
              "3rSmwjmX6sLEBeY05yzFRWfHoyKgA73wWglMXxNXPZMPEGKXBVPZHXDw01KyOGr0vrHfHQ2tIV+P\n",
              "q3oumXcgCyS6w6F8t4a5Oqv4CJ/8IyTBADG4WjL3uBDLR+NwehZ4dVdiTSfwKQ6d4Bf8hFMDzK+q\n",
              "7h7gNDIQVB29qiPuKaJ8qKKc3kqXvd7/yULl0nBWc0RSJgDjv3vFWlMfPCWDH1RfIUwYWsStlQz/\n",
              "biEnPM98jX7lewl3r8jz+KpwmRfibsgFEudFAoSe8YxyraCba3kwq4ZJ5MbM/6AR/1qgNTe7hOtd\n",
              "rrE0MIzrJBkJ592yHXJs54cI3mHW9jdK0FZZTJWaeuMJHHdlBL0FU+Go1HRbq5wXW9jLDy5iwjf4\n",
              "tKCSLUM99lJ8T6szxlYn74jqzBbX0ZzzuS5xIoI/mYo8RqExI1YWDWLsoAAAACVBnkF4hv8XGOtI\n",
              "ywscYbGdJQ5ygWEu/nvKda7X4+6DM44VjoqbAAAAGgGeYmpDfwGw87jJt9sLsEf42p0eebYgK8Rz\n",
              "AAAAWEGaZkmoQWiZTAgj//61Q7acuAOihWbAj+I+qPwRdiVINVfU4OrUTdfeKAyJIboSWxICaNTg\n",
              "8Mi8e/PFgNRN5KR/iXWiQg/GgxYzVPq8wqyexusRkrLDxEEAAAAbQZ6ERREsN/8QLoIqaJ9VTwOz\n",
              "Y35RSwpti5mBAAAAFAGepWpDfwGYfZdZL1coRp6qa8wJAAAAmEGaqkmoQWyZTAgj//61Kpq9rwiN\n",
              "O8AFKQ0BW0UfWaueyb+9U3pHgKUNyDubr/shBo0LhpoKepne4L1XdFIYTk8pfG53HboYbpZfOcTt\n",
              "YUe41hEszAwNrwThJpSRbtGDFYjp/6xFL9TakA+ciu4Q3NkjN9cgV9BUt02U3YDBmth9HuPbh33t\n",
              "OqVrZ+VAEzFcOuTNzH5A1485AAAAN0GeyEUVLDv/AqIj/sbJUDrgA0RdibsNOf8jwOPm4R8tP5ld\n",
              "CC+g4nqlylyj+AuY4NyyUrWqHKAAAAAVAZ7ndEN/AZguiu8S5onLd5i5w8E4AAAAKAGe6WpDfwN9\n",
              "9AQXZHhI4AJaMI4atZwl6kgJOUnrT7U0xJox5G1/fxEAAAC1QZruSahBbJlMCCH//qpVNacVUADo\n",
              "k7FiMuvM8qr1SLxYnUeKRgHEftaWpQ/HgBk8f5GTUIb/zBC01XUjgyt03LmbdmMFQusWbHVkjWLK\n",
              "RsHnDwTPW7yGR78Zk0G+IEsBzyT4Lq8UreK2MpSH+79WsnZRZsp8/9nIrvj2DsK6LKndaWMitA7T\n",
              "LJ4cNJWlIpjnkJ69gn2MaVhlj7a/rKB+/cZTb5T2pRQSefy3gsejAymuY8+zEAAAAG1BnwxFFSw7\n",
              "/wKiI/7Z/NWNiAAOOAVsS7T5gAmb3ayPAtiC4LfxAr2EPTIAFrn4FU+J3Bv4z9A7d5suVxR98ZJ6\n",
              "cynA1mkLAXIeig7DdCaWFt1Fux5HqJtbXO3wjZ/861f3nQt/c7JzcFZ3f10wAAAAKQGfK3RDfwGY\n",
              "sovloAR1C6EOjXlzKYeT6n8XyGQ7qYSmpopwfMRdmziBAAAAPAGfLWpDfwN7yU2hV0AH5feXQYUE\n",
              "9wD5w/u789VTmsZ15Pn2TqYFZUc/UOKnuYN7WH0MA09VS/6vNL1MgQAAAJhBmy9JqEFsmUwII//+\n",
              "tSqCYkgpZgoACM12ft/1KbBAuJE0t4zf7UEAWlmyuvHHASH87W3BxdedJTQUJQ3eCEBOEn7Bf9Kp\n",
              "LbRwxLNcduF7nu46tKx9/4CbGuwU3hUisnC7vGBe5q3CwiPRr7rwiyo9P/lUs1hObwBfWERMgx8H\n",
              "xnQg5ZWIzrZsee/oM6pcKISV2ZpdKPBuKQAAALNBm1NJ4QpSZTAgh//+qlU1obMj0i+Ld93IALqe\n",
              "7HjUTh/xKzziUtCbPr1QmK4PHbbB/XgAIBdnxdAGNlaU6vbnnJZmyh/FCoD/UQycwm5Wkilf3yS7\n",
              "U6yvIvNOd70Bi6qaJnuHmq6B9WOXU+99VqE8v95ZuyrvzQwHlvwv1Ks0A36FCnoLwLGG/euci5wa\n",
              "jnMFLug5gG0uTSWm1RUMR7f44heaDg+QjogeYflV3481kPt8jQAAAGFBn3FFNEw7/wKc/AKJVZD9\n",
              "C4AAFhQ/uv+MDZAfvyghcNQlTC+NjQOk9reTKXnBnFn90foYddnioJsSdoryP25tjHnpFP77J3Xb\n",
              "dcLWccsXD1V0Uz4wWwda9ZHp/jIn0ey0AAAANwGfkHRDfwN61mwKZBQAl5owxoofKivudlxHn3e2\n",
              "aLgWBE7ArokcOg5XYeCaHsVLB8Yrctux/QsAAAA7AZ+SakN/A3vJTGKBbVRcgg4AJxyMObarWyyS\n",
              "VgIiRSyARqVELl3NiiJKi3DqOG/7pIl6C6btC65+VIAAAAB/QZuVSahBaJlMFPBD//6qVTX511YA\n",
              "tt0d/aSgJzotNN76PF4YhLtd/u4omT7ElKKEj2PiNe7mOHaOqVK5JzsT4iGU71thfZgTg7MpFPev\n",
              "r6pSep6Hi4HcroIEXMmRo8wB1Xo2ogjsJyyiXYS0E+2rLTUUW4DVykvb5zER8P64awAAADoBn7Rq\n",
              "Q38De8lNPHnAQJreAEl7moU3XUzT3o3jrRnZ4WPmk/t2MOdsHFvzC320HyS0G7Eo4P/+r/lBAAAA\n",
              "kEGbtknhClJlMCCH//6qVTX52TYEY6ELFvCABWx9Iryu6OPz1p1L9BPsfG38wHtVLyNIjQYaovtp\n",
              "ZBT0mgT6eZ9wowZrw5KKMFI+voXuBKzTy2TYbYFBJmUDzPv5QGeJhnWDm6JUpFwzGm+EkyTmrB0T\n",
              "lATK5WwGnyzGcgPvwdsHpAvDyuTbYN9xMuj5w7PmYAAAAH1Bm9hJ4Q6JlMFNEwR//rUqms9xnAAK\n",
              "5x2JrsAvlXqPfB+YjlPOycoQZ+eGNH3oWbupBhnFuuVIp2dnpSqxmxNZnsYrLsB2wIXJe+hwWoe2\n",
              "oDEziZZbe6XEeALk3bOr+KCOWTkRJr1AnQe4wOQzVQLUf/c/s6DXVpjS0zizgQAAACkBn/dqQ38D\n",
              "ffQEWlxG/ozH+jzNBdPUSgzEz1iwAVj0HR7MveSAQfrE8wAAAI9Bm/tJ4Q8mUwII//61KpsUBPAB\n",
              "leerMs2sz5ZuOP6rLIx7oCggrQb0wRQM2yVzfQV64I90N/qR/YiNJ/A51FdP0XDmlgoGKJsru3ju\n",
              "alJIvdKxfFF15wj1lI5qiFUeUuROdJxWqALiCDo5Vk802QW8NEAEfuMHAAvLib7MrsaQGWvuAXsb\n",
              "RFKTwV6PRzrxzAAAADFBnhlFETw3/wN99ARYm+uE5oukkBvP9fcjt+csF5vyAM7Wq0aBGASc0Dsl\n",
              "mXd99q2JAAAANwGeOmpDfwN7yU1mqYRlm9VogA/rFNqSS1n9AeF23rVw3FsXqC1Ktn4MueXUz3ji\n",
              "H8XX02deQXsAAABfQZo9SahBaJlMFPBH//61Kpw4+PahzMACHpQ7PR0mvFQwENkQL51Aro23d4xJ\n",
              "a/oqgr57k7DOrPdP6tQt1bFxFhnXTlR+f9RSw5a4WWZeecd0WcukgvQIsrX1RX1d560AAAArAZ5c\n",
              "akN/A3vJTWaA2ucTuUgBNYV0OtWjudShV5v3UujhNa47w57o68IbeQAAAGBBmkFJ4QpSZTAgh//+\n",
              "qlUeGWbL/FJzIQVOhsbkwArRZVYX9NEVx3B/7js2rjErFEd/O/cjwinPQdaH+28tiXjyRSKlhWip\n",
              "yy6OzeKSHehBtNy9yZekFIgzqSX01FFzUYAAAAAvQZ5/RTRMO/8BIH4JI0AJQGtf8hhry7CATV6e\n",
              "dRs7TSnQ13YJ9SvoeU3Zqlfl+/MAAAAgAZ6edEN/AMWqMvJEYODB65HPIrICRkgww5UEt50x2jkA\n",
              "AAAWAZ6AakN/AZfz5+VKwqHomafYn8jjgAAAADlBmoNJqEFomUwU8Ef//rUqggjuq+cQABQHfKe9\n",
              "r2yRd7OGoDX1+sLKIKfQpVzhGU/tk+hHjjm5wPkAAAATAZ6iakN/AMWUShfYgkIyT73sWAAAAGZB\n",
              "mqdJ4QpSZTAgh//+qlU1oUMjeC/LLL0Bm+wZjJy4SxyfDq/9ftlmMx33NTcCcgN3tFgbPh0z29z1\n",
              "7zzTYq1PMIf+nPusaotLthSYw3sMNUASE9GnwGOUl8bmzd4m7a3SD5mdj+EAAAA8QZ7FRTRMO/8C\n",
              "oHkyd0AHQPFW/oIAnsgpONizNLx+ZOBSvQ2ShUi20/r7gNEE9SZKFpmMRYz6AIgQnXsNAAAAKQGe\n",
              "5HRDfwN+xFyvNprSAD9fttnuz2nCqUpANF7BphjzEn5O/O5w6T3BAAAALgGe5mpDfwN99ARW4y/t\n",
              "wAStLqiAvJE2VJ9hz1eezLf4n05xW88L6d3j0FS9TYEAAAB4QZrqSahBaJlMCCH//qpVNaFDI3gv\n",
              "dBj4EFMANoqHI7mPO2NACroZPF+O15qplEzIRq7/9R7p4hn0GhHnb5AhOizlYjOBB5cFjdEOzjfl\n",
              "3TYuaMZAIHg7lL3t5A1LFmNu/B+UdhleJ+7AbhpVYZMJ7r0muiYiFUCOAAAAQEGfCEURLDf/A330\n",
              "BFaHWqAG4jHM6T292oLA4QxeXrnvjo7q00RIWi6E8fSksRxo+THPc1VtrmLGk/Uny7En32AAAAA3\n",
              "AZ8pakN/A3s5elUIPamUkWAAsQrpYrvTwLQ0NePYcCP8P2XkkubzV+IFxAZoZqBW8Xzfd1PXsQAA\n",
              "AENBmytJqEFsmUwIIf/+qlU1pjEB2zh3lXrUAAbh09U2/Q6GxDrnA0WQL0mKWn08nXGnuEIW6igr\n",
              "4dt0X1orHSLlLm6AAAAAZkGbT0nhClJlMCH//qmWmia3TwNkEmqlq0UnaAFXgUguF53v9qkRt1pT\n",
              "ey+h4Q9SN0Get+qBcqNdEIzsS5643wqAMcTE33kvHqim7XETB1EG825ASSMTWTasojO5fnxHrPYn\n",
              "pzyO0AAAAHlBn21FNEw7/wKgYpmXGOThPE6bOCJQrLAAJ3IM/GR7LsJJa4ym6S6LQCyFCP5AEq4s\n",
              "wDEEUe/0ZL+NrIi/pvKAjkR1BSOJ7f6sMRSNgRzCjOP56VUo3Et1P2rTDWy0cbO1i6UrNw1404zQ\n",
              "mKcdQtdt2xv6QDAxT6ZZAAAAUwGfjHRDfwN+OcWG4ZIlgAle8HNEHicQEYsDMEajj6iNWMuQa3Pi\n",
              "uLB/Fuoq6eNd/RKZr3CWqECK3ec7HoCFBnjtY9brHH886ENY2f4hx4wxU/kPAAAAUQGfjmpDfwN7\n",
              "OXpVDK1E4AB414m1LG6NPG5vgZ/XNr/YlyrQ4M2yLDnr5weeVoHCZpJPyAHmlkcBmlC1lJj6Ad4t\n",
              "boQbiMiRxDYMGa7+YfwJgQAAAJRBm5FJqEFomUwU8N/+p4UUWPmIRVNK9EcAH2WeyzYIwhYhuqIq\n",
              "KDXZjFD1jyZhSggoMo6iyPgV5pj0mZZ6SBqMEdmDDE3NT5ux9K/HXfca2kn6cp+71Y0PlXRev2SI\n",
              "2r/kyKT/B3WEn4vZmciyp//k7FngwZ/yTG9f3AuPChGEngZjxa3t5mwjKMw5xVJY+R0YXUrgAAAA\n",
              "YgGfsGpDfwN/ZJgJZmYAHwMCpvYeoxAEto5wBesQHuSjD4DN77Oc6nbjzFLxxWkZ0gABxQnIh7wh\n",
              "cACQ6VC+6ezF1NnJeFHxmhLsZj2Mvbq+eC88Q5ZHkhlNGr7BIx1VP1bAAAAFZm1vb3YAAABsbXZo\n",
              "ZAAAAAAAAAAAAAAAAAAAA+gAABOIAAEAAAEAAAAAAAAAAAAAAAABAAAAAAAAAAAAAAAAAAAAAQAA\n",
              "AAAAAAAAAAAAAAAAQAAAAAAAAAAAAAAAAAAAAAAAAAAAAAAAAAAAAAAAAAIAAASQdHJhawAAAFx0\n",
              "a2hkAAAAAwAAAAAAAAAAAAAAAQAAAAAAABOIAAAAAAAAAAAAAAAAAAAAAAABAAAAAAAAAAAAAAAA\n",
              "AAAAAQAAAAAAAAAAAAAAAAAAQAAAAACQAAABIAAAAAAAJGVkdHMAAAAcZWxzdAAAAAAAAAABAAAT\n",
              "iAAACAAAAQAAAAAECG1kaWEAAAAgbWRoZAAAAAAAAAAAAAAAAAAAKAAAAMgAVcQAAAAAAC1oZGxy\n",
              "AAAAAAAAAAB2aWRlAAAAAAAAAAAAAAAAVmlkZW9IYW5kbGVyAAAAA7NtaW5mAAAAFHZtaGQAAAAB\n",
              "AAAAAAAAAAAAAAAkZGluZgAAABxkcmVmAAAAAAAAAAEAAAAMdXJsIAAAAAEAAANzc3RibAAAALNz\n",
              "dHNkAAAAAAAAAAEAAACjYXZjMQAAAAAAAAABAAAAAAAAAAAAAAAAAAAAAACQASAASAAAAEgAAAAA\n",
              "AAAAAQAAAAAAAAAAAAAAAAAAAAAAAAAAAAAAAAAAAAAAAAAAABj//wAAADFhdmNDAWQAC//hABhn\n",
              "ZAALrNlCQloQAAADABAAAAMBQPFCmWABAAZo6+PLIsAAAAAcdXVpZGtoQPJfJE/FujmlG88DI/MA\n",
              "AAAAAAAAGHN0dHMAAAAAAAAAAQAAADIAAAQAAAAAFHN0c3MAAAAAAAAAAQAAAAEAAAGAY3R0cwAA\n",
              "AAAAAAAuAAAAAQAACAAAAAABAAAQAAAAAAIAAAQAAAAAAQAAEAAAAAACAAAEAAAAAAEAABQAAAAA\n",
              "AQAACAAAAAABAAAAAAAAAAEAAAQAAAAAAQAAFAAAAAABAAAIAAAAAAEAAAAAAAAAAQAABAAAAAAB\n",
              "AAAIAAAAAAEAABQAAAAAAQAACAAAAAABAAAAAAAAAAEAAAQAAAAAAQAADAAAAAABAAAEAAAAAAEA\n",
              "AAgAAAAAAQAADAAAAAABAAAEAAAAAAEAABAAAAAAAgAABAAAAAABAAAMAAAAAAEAAAQAAAAAAQAA\n",
              "FAAAAAABAAAIAAAAAAEAAAAAAAAAAQAABAAAAAABAAAMAAAAAAEAAAQAAAAAAQAAFAAAAAABAAAI\n",
              "AAAAAAEAAAAAAAAAAQAABAAAAAABAAAQAAAAAAIAAAQAAAAAAQAACAAAAAABAAAUAAAAAAEAAAgA\n",
              "AAAAAQAAAAAAAAABAAAEAAAAAAEAAAwAAAAAAQAABAAAAAAcc3RzYwAAAAAAAAABAAAAAQAAADIA\n",
              "AAABAAAA3HN0c3oAAAAAAAAAAAAAADIAAA6dAAABowAAACkAAAAeAAAAXAAAAB8AAAAYAAAAnAAA\n",
              "ADsAAAAZAAAALAAAALkAAABxAAAALQAAAEAAAACcAAAAtwAAAGUAAAA7AAAAPwAAAIMAAAA+AAAA\n",
              "lAAAAIEAAAAtAAAAkwAAADUAAAA7AAAAYwAAAC8AAABkAAAAMwAAACQAAAAaAAAAPQAAABcAAABq\n",
              "AAAAQAAAAC0AAAAyAAAAfAAAAEQAAAA7AAAARwAAAGoAAAB9AAAAVwAAAFUAAACYAAAAZgAAABRz\n",
              "dGNvAAAAAAAAAAEAAAAsAAAAYnVkdGEAAABabWV0YQAAAAAAAAAhaGRscgAAAAAAAAAAbWRpcmFw\n",
              "cGwAAAAAAAAAAAAAAAAtaWxzdAAAACWpdG9vAAAAHWRhdGEAAAABAAAAAExhdmY1Ny44My4xMDA=\n",
              "\">\n",
              "  Your browser does not support the video tag.\n",
              "</video>"
            ],
            "text/plain": [
              "<IPython.core.display.HTML object>"
            ]
          },
          "metadata": {
            "tags": []
          },
          "execution_count": 7
        },
        {
          "output_type": "display_data",
          "data": {
            "image/png": "[encoded data removed]",
            "text/plain": [
              "<Figure size 144x288 with 1 Axes>"
            ]
          },
          "metadata": {
            "tags": [],
            "needs_background": "light"
          }
        }
      ]
    },
    {
      "cell_type": "markdown",
      "metadata": {
        "id": "vl6VRM6oVI9C"
      },
      "source": [
        "## Tuned mass damper"
      ]
    },
    {
      "cell_type": "code",
      "metadata": {
        "id": "BhGnqlgPVI9C"
      },
      "source": [
        "md = 0.05*m\n",
        "mbar = md/m\n",
        "fopt = math.sqrt(1-.5*mbar)/(1+mbar)\n",
        "xidopt = math.sqrt(\n",
        "    mbar*(3-math.sqrt(.5*mbar))/\n",
        "    (8*(1+mbar)*(1-.05*mbar))\n",
        ")\n",
        "kd = mbar*fopt**2*k\n",
        "wnd = math.sqrt(kd/md)\n",
        "cd = 2*xidopt*wnd*md"
      ],
      "execution_count": 8,
      "outputs": []
    },
    {
      "cell_type": "code",
      "metadata": {
        "colab": {
          "base_uri": "https://localhost:8080/",
          "height": 602
        },
        "id": "A7OcoX87VI9D",
        "outputId": "3860f03f-df53-426d-afab-42c42f3f2cb8"
      },
      "source": [
        "tmd = LumpedMassStickModel([m, md], [k, kd], [c, cd], [psin, pzero], dt, name=\"Tuned-Mass Damper\")\n",
        "\n",
        "# plot anaimation\n",
        "fig, axs = plt.subplots(1,1, figsize=(2,4))\n",
        "ani = tmd.get_animation(mode=0,fig=fig,ax=axs)\n",
        "HTML(ani.to_html5_video())"
      ],
      "execution_count": 9,
      "outputs": [
        {
          "output_type": "execute_result",
          "data": {
            "text/html": [
              "<video width=\"144\" height=\"288\" controls autoplay loop>\n",
              "  <source type=\"video/mp4\" src=\"data:video/mp4;base64,AAAAHGZ0eXBNNFYgAAACAGlzb21pc28yYXZjMQAAAAhmcmVlAAAuAm1kYXQAAAKuBgX//6rcRem9\n",
              "5tlIt5Ys2CDZI+7veDI2NCAtIGNvcmUgMTUyIHIyODU0IGU5YTU5MDMgLSBILjI2NC9NUEVHLTQg\n",
              "QVZDIGNvZGVjIC0gQ29weWxlZnQgMjAwMy0yMDE3IC0gaHR0cDovL3d3dy52aWRlb2xhbi5vcmcv\n",
              "eDI2NC5odG1sIC0gb3B0aW9uczogY2FiYWM9MSByZWY9MyBkZWJsb2NrPTE6MDowIGFuYWx5c2U9\n",
              "MHgzOjB4MTEzIG1lPWhleCBzdWJtZT03IHBzeT0xIHBzeV9yZD0xLjAwOjAuMDAgbWl4ZWRfcmVm\n",
              "PTEgbWVfcmFuZ2U9MTYgY2hyb21hX21lPTEgdHJlbGxpcz0xIDh4OGRjdD0xIGNxbT0wIGRlYWR6\n",
              "b25lPTIxLDExIGZhc3RfcHNraXA9MSBjaHJvbWFfcXBfb2Zmc2V0PS0yIHRocmVhZHM9MyBsb29r\n",
              "YWhlYWRfdGhyZWFkcz0xIHNsaWNlZF90aHJlYWRzPTAgbnI9MCBkZWNpbWF0ZT0xIGludGVybGFj\n",
              "ZWQ9MCBibHVyYXlfY29tcGF0PTAgY29uc3RyYWluZWRfaW50cmE9MCBiZnJhbWVzPTMgYl9weXJh\n",
              "bWlkPTIgYl9hZGFwdD0xIGJfYmlhcz0wIGRpcmVjdD0xIHdlaWdodGI9MSBvcGVuX2dvcD0wIHdl\n",
              "aWdodHA9MiBrZXlpbnQ9MjUwIGtleWludF9taW49MTAgc2NlbmVjdXQ9NDAgaW50cmFfcmVmcmVz\n",
              "aD0wIHJjX2xvb2thaGVhZD00MCByYz1jcmYgbWJ0cmVlPTEgY3JmPTIzLjAgcWNvbXA9MC42MCBx\n",
              "cG1pbj0wIHFwbWF4PTY5IHFwc3RlcD00IGlwX3JhdGlvPTEuNDAgYXE9MToxLjAwAIAAABGBZYiE\n",
              "AE+fg6Saj/zLA2y8iQqZeKEwtdDCiJrMW8KfYJ3tHOnERrwv42je3TIdWSO2wUPhuDnrCIWru6Iq\n",
              "zerl/Oo6Yy5lfqhZ9UwsfQMYjaHfOgqK3oZjPbnqvB0+yoeL75KimB49XLOe4wr0eHe9hmjumntt\n",
              "OLBV/CyMrNJD3u2zDuXMBPbXGhLQ0HRKI3AnZY1nhedz4VnfYL5M4xPJgc3nNqMsPfQTXsjrChK8\n",
              "phdSmD5+zus7gi+hchapjVJFwdLQq5phiyApsOHvN6gitFILQGAvpnuBpZUnyL3YUhurEPZ90bBc\n",
              "LwStwWOhBHFSXs0qg2giqLjNBgtb3axF5jZIPGlR0hDaNT+v545EO9C5Yqy8NUx5ors1abIz87Xk\n",
              "lI8ukPB8yrTBMs0i8QRl0dE7WggfI5HmxaI7dQDNAIclw/k5FuVRlQ79ZoGMShSvLgoE7sPfsWWz\n",
              "JmzeUYDkSMtHrAyDFWdceywEQ69giqQuC5N7bPy1r6PqVAMF+TeAIka4die93DFCiEor4U30x2hq\n",
              "/hjnblap8Ju6LWrCn9l5S4IIZYTp1K2Z6YvIf0h2TAaSL2OJHRtmSNSOrIZSla76cNyZfGcDMBIg\n",
              "+Clocbjg669QXrNGbsaP7yLoMl0seuo2BIbVWpIX2S88/rfTtsHy5eGV6UgUTVLaQBvBcCiZS2uB\n",
              "Wb8ddt5tmttkwA1E6ZJVO/RfVBcSA4PzBfFnx/84bT/vhcGOzoOWV5oKSrGv5ELpp/oP6MQXqHuw\n",
              "ZGf1ldGpznXH5CynBSAYl4uL1QdCTldPT45Ai1Xl3CtSFUCTvbz02AQqa6mJOdfJeZplWTwG9vtQ\n",
              "1LfvEr67Qo5+J1+XKmc2euZpzdI78hwGm+cY/CIN4rDUcQxLSunrIhx7urWP1aIDBRFQPicn6392\n",
              "1n4BtBCCmkERWwxTMlPoMahANPr4j0eK1YD7+4B6fUsgeECZPmExF7JwoSGE/F5GuyzwXZmYDype\n",
              "qsHrWmYtkuMszuBfC6DEyWocqwtXoFPgy9xitx0Vjt9kxcHujWQF9s2A4gX/OQ285Um0ALAOnMB1\n",
              "mdxMjRCz9MbuiR8vl4ntnU7hUie+EdswUlAX9IWdgRmoXMjRRuAgUyppFw8OXEmoXfLY4038xL1C\n",
              "1TaPlOz4LPbojhrc2KVosX8IiyO5GTSDL+NK+2VP+jHJQEqEagDHcg/PFKiXZFrbZt9Yl6GMpZ9v\n",
              "iI/W0mpvp10MAqsdJpsLE48HWoNvQDOb/+YNfUEqmf4ilAB3JfO+g384wG8ZVe00mbi2V3PgZKFH\n",
              "MvaTH74+kawH9rbaAhQdjykAietNDXZDXsuyyakzxG4DGRcC5nIFs3KdWPSL13CVb32YNtg8YBu8\n",
              "iDx56oy8/mc5z/KN3bkw5DwOZzlpYh96FjzaZXM8qLd0Q8DcZVPY+mswIrukaFZbJHxtNu6RiXeK\n",
              "btu/bpzbq4KzfX/O0PD6MZvCIgOPOhFAeIS3msBwr+IVjGNZAJPV9LsVhD5YAKmebuelw/1z0nUc\n",
              "bzrf2PCjI3u6FLYtIKssztmRak4FMr7YpBtAbz4Oc/Vd5T+gHaPzQKXNpNUBqh/9g03PN+udbCXv\n",
              "3xc/6DIEgndwgZ/SslcM6FrJ+1sxnrSYTxnuXZiPvTBgLZMncsgMILhoqWEPlYhSEAbUEm4EwdSc\n",
              "/oF5hvEi6mtHcvDZNRnZqSHuzMr72M9gz+6x8qjw0WB///IBH6vvygIfsC6J2xCWNa61PwA3cBjj\n",
              "WotcQijZ6d/e2BNBwuyDFbqwwzx/fvJI1EOcJ2PhbrvF1cKjf/1VsuGKTFICjaG+z4SBSY6Ie4uV\n",
              "5+X4708LJ9zoU1IBWwCQc7L802MQxaXnxr5QrExTaToow42WfRGwv6KUCHUza1/8vlGzOtzoxx9D\n",
              "6lc6uGOMK/KEy464JtU5JqwMfJ+vfPXhsoYKyYswH0ndcmmL1KwUQlS9V5GzTW8vKJK0Lo92QHRQ\n",
              "8fUioOkIVBw6rXTZNZJCM1Weiln2aBqw8FyoIGQCB/x/F/wHYNpv/VpWNzefhd6bqarQd+B98H5w\n",
              "weUXmiyFfqt3LbDbiXOTk6cXXgNgTVhClrwYdvad8PTeDulSdvG07CjrifrhTJD3Pv3ZMiWgOZ/4\n",
              "79rDCpoy34LLk4b55l7u5iriaEggGE6SmsrzP1spMo1bssXl1O9AHJyDJQKV8TmoA30RhWUpZCT4\n",
              "mUdI8g7dWv6MEENC2apKkd0n/kE/gfC4QZDtUcv/IVUBPVlR5Fu3o74bNEneQzSgg4DRBp0Ex16C\n",
              "IUWVoa26u/HjAOT9sut7/hJykeJu8NRNKXcj18uMhAGymLvHSPvOivRTC6KmiBvShU7m1qwZYQuX\n",
              "xVekDdECoago1ujXVnmzQzTEGgCBVfG0N6P/sesrszNpItVr4a1mMF+BDLr/GGf7fsqRNyP8uxfb\n",
              "zEBRwPWYrKb2OFk8JEvJt0asKjZCrZ6hJcJVs9K5OXMt4ctX0zAKpeCdy2B4y/Tn4g+/2vHOoQn4\n",
              "NYqxL6FWx+rkHEDl0TAcU5U1CjtwkElPOAiUvQzHQGxPpiyfq20QczuDti9HtwBhs70An9cmwo0S\n",
              "qd1jNzwGx7nI2bOuAZ756sQ7QT3GBng6xZCYMgTI3mhplD+cexHr2UykM3O9wvAxGhR0DcIubNet\n",
              "MSXsdJSN35dG7azHgDPqAut0PUj5OgpPIkoylnnu9LScZS9I+wsmU7M5AlhLi34dSEs5pR5SS0sd\n",
              "KXKuRj7pP+4F7uB7OVl/oGUeyQB/Ca7br8aOHTtV+nyGDHYeysjValhEFTTjMBxFWSkEYo/+xlHa\n",
              "/++Z2WcaTr+xVNQKv2UpEvbjqSU02XnJ+tAeHtv/AobOwBDf5/hR1bJ1uK+P85iv5s9XnGcT8gA/\n",
              "5IFi+/p+6W9SwJJk8V2TJS6BPs+gmefERhiEsV3N2uL+I7FmGJD1ejyIj+xcVbOA12q311h+mj35\n",
              "cb6XY/NRLSNmUkVtg976+S9X6ZpbjJ6fTU8URX0JD8pJztH8bHmJZaPbNbwq0ktzbjOfkRJ/XAlO\n",
              "8IA/2qg+sdfftDSJ3ga9Tou3wEw59V7JcNPoK08Rf/OlT/8eLG69ZsfNZzLLEm64WTRywsL1zFfS\n",
              "3sINxmwuwmXvbc+Jjvv+s8J251ZR1QGMS99XJP7R/5ftufzf1ae+/LR1U7DuX9Qnat/0++/7WCOE\n",
              "UJlAOcdLR8sf/5WS+edm3oa42hmyq5V1TSPDoNL+g3UL9kQRY1SmhJY5UixPRdIzujEM4w3FwN3m\n",
              "2YP9uBN7ARfsYWIL4qo69cyi5DKtKPYu0Ude+Tu51gOS7H5AjVmSNEe0k8FMurXxqdOVnWZ2/656\n",
              "Gf/e6XdP/uvtE8XijY8WAXqsDl8NOy7G8iHKgDitug24ggJqNp63GxkTyabo7azFdtxLqF/X+Z6V\n",
              "1x7baDh9ABL82eZZdQ0EOn2Lr/uiPot9FBNn3LxMi2DxtVdqx9IVeTVklUy0885hHVYisOxLpGKo\n",
              "r8FafQq4h3gIKRWvpnS+F5tsBCRod7z5JQuQSy5M2HPFN+CyevBVUtCi5tHY3YHSPHd1iawyMwLn\n",
              "s50JMb9Vj8wrvro2VWsPYvEEP3CStg3s057Rvc+U1r0ZBvClxWobMgBsVHIlgK0R6xiZNIfH1ESh\n",
              "F+LaGKpCTKCQg+W3kNwIcJOacMupf0QR3nXNlltD9RDe3qrwlKTe53LpXLGVPSm7rny0CQ5XFXaJ\n",
              "eSg8lhQ41ZP4RXQ2r1ow2T41h/Y4uXgtd57vJAmU0iPUcaMbOWfVhsIBKaP5Ib5rinNeVD7RnaET\n",
              "jhmjxm/OD8H7n4hY7q6m8QMTtiSMqGuH34TqOhX1seB0PiWLKzVAWu/Nku1xnp40qEbJerj91VHg\n",
              "irl4rmEQZ23cbSQcFm+kg9NGmNzpsmTjZY5pSnnYjcAI5GmYSScl2t/HZJ6KMlvMLcCHSllmT27t\n",
              "mK/og0lFibgIpo7WRpoPkhNfmBz1FheiA32l9Yp3yAE+5RNt45C2UhxLWG0/UePOEN2A3J1t1Znv\n",
              "BTzsEmqkiWzP1UAzm//ZBKPw+KtYMNwLnuy4aAv2Wjakz79pYafpFYQBYOVPVt0ZtaHsYZ8ajALv\n",
              "/3/sK5M8dO94H1uPsoQN/Y3RrNEsOPpo+/gI3eQSDOt2P5g2+rVzykblprT075nhuyK1IjIOciAN\n",
              "fYwByMb9xfXEAo+jBQ4ZDUzEM6svuV8RzugeZQgOLn0Yu+/IpJ+EPy1DxPiM/LYp82uQeu6+PZFX\n",
              "wU2B3eiCSGNG7jr4304bv1hsUl7Mghb+6y1S4FV+28N0QY0Isa/5aY8bCQ9XLh5+z0kAVG27sU8N\n",
              "9f3w7zaJhVlP5RQEtlWhjIiX+ubq9G68OJXFuimk5OkcEB/iwjDViJDGxpxdFY76QjStvVIDHNjo\n",
              "MwiaMp0yIo6CcMCblzwcGjkmYf9fRHlD8zfCSc8uCKPZQH69AgjdQkXj1Vni61VFxdHCaNJ56TvB\n",
              "dw5oUArJOOMtsunqxTEbQYef21vAAxTETbQvbohEVuwEM0egsjF9d959mWLVFpb3OROz0d6LaiyN\n",
              "1/9/l1u/NkQyePXhLgArGjCl5t4DfjW3npXe24NDS4gOzC1Uw4e19Z0aVzTbKqX8DKVkHAbFQX0N\n",
              "bwogvuzVlh+ICV75jk36wmAXOHtjQULt60FqT6wfcLgrPY+lI2wtzaGpms/THl4jAHcGoUq0WfJe\n",
              "V8nRANAqOY/Qk+ouq3Tl0mEV0XjacTJ7Kq65B15wKHmF52+tL6ol6FPOGXKZRmZgt+det7PLUJGN\n",
              "jj7ed9d11UqXZfo8udIbF8USpptQOMIfmowDBkAXdNKdMQa/Ew/2R/nujt7D6+FrJFvg1cV2Q/sc\n",
              "xk9marJyn795q1gQjWDTYpeAkNJZ4yPvHM15N4RPpLN/KV0WzU7Cc18X+ViQp4nTN9QFkkoxUsZI\n",
              "+GdFgtmhJu62/4iHtqmzuqKdEC/Ksvwljpl8PBAzu1xcMgn1OUWXNhGXxIWZyqntE3USDSDLuq3c\n",
              "ZE0U13prkoJ2gjojTvc9eeEzZmjRdMukixK0Bq9IDd0V2n/KeCiGaKrALmwDPZK0kGFSIwFmC0af\n",
              "q2b28DbmLclxiS5C+Mgz7ocuQAr/7gzlA06iwlkCXfhr8B0G7tF9GbTZ3vySoNaey7WpTA5GpFJO\n",
              "r3IcgXrtJN9EL2C2CzthjFZy4ZTue1KPK7X+djttfvsSXvs7Z3cxrSVN4z6IBSV6ZzXNfn5m42rr\n",
              "wwG5owHuYXV+bR8EF41/NEOL93bOg6HQ/o5288+CPBToy8uHInvdir5K2KqxEyGKnlvYcbxC19MF\n",
              "LN6JQx3Ghqwy4qH/hID9aOR7VSfQfgWfsiTIx/WdYrmOFP8kepbHZJn+1zy7Y8rtKaNh6YdqlH87\n",
              "lT9onWw7g6zyfCoAPkno/n/nzoDelK2771Zmdvi//0/+Jrl2NhAvr5hCSE2HHK+blKZGNfF7EBky\n",
              "CcNM+1TXCkQs7ud5fY/4J39jJ/ttTlYHaECt0/Groda6IqBi/LKZxeEuMz757cUoYrTV86AuO17J\n",
              "GZDMSl5sCP+Ka8IpPQtlBam9NpFdCtxd+/AXAABVpzZakc7CzPZBVABtD1j/jJMqoiuVahXJdhid\n",
              "YBKVfxdwhHhfSv7ZdQa6rRhMpBldzyRDY/Rgu1sqIDNmsN8lkzNuH8dVSLsvU7M1go2snk0jCjEF\n",
              "L6cuVafGZ5hhpMggDxouMvTyFBfZ8FOWiN7j+rGblWNO5CPSYmuIgs6dgu0iZpCJ3DhUuURZ0HLj\n",
              "UfoN7Oj+wGY1ZiyX9p0gK1ulXHMJBWXj7LJymf4/2pYPLT/Y4ZY5Es86A2cBMb5DiXs2LqBh53Mt\n",
              "1TpYcFGwrDUF0hZ4Xm+UYcxc0+0cjFUNb61TnYtaemm9jSJWro4i2i/7PKFz+LZTxgbhM2toPbw/\n",
              "QhOi/5rhogwjAqZGIk/8EJTFEKwuwmwxRgebYM7loTsAAAIlQZojbET/9G2qMTBF578i2A0IV65V\n",
              "BJVJ5FGHEnJ0sST32cY5DGm5X6YmViaiWAki6YNAL8MEryeIi1VFvWqBOltVP2rBEu4qMX9TtIRe\n",
              "dYVd+Xn/ajD6pYHG7qtA0s2B/kd2ncVf5j2shnma1RnvfK6jnGgBSY4Pa+GooL5orJNt0t+6QNpU\n",
              "tFTPCB9GTyuQ0ofONPZogN0htYz+cgrE4x6WykwPDhVOEh/J/zHWiLEPI9D8H/KjoSTlC/7WZrdy\n",
              "Y1tN2RRszn7shnEj/N3NX+gc2ze20LvVrUVBe+q6WWsY69W43nQBAklQMrAjnP0jZACLTiVcSTmE\n",
              "G29SlRhSJ8RbqWmMq/6EWBRqVJQ96S/VlnD5AWnQYpQfHVUB0lwYPDg33etp97X+wAQ9FUKAbU3L\n",
              "7DW4438W2Jjswtx4RFvvRp6SxFviZH7thntdET8HyfNspekce9fnhqOUjCX9gDttitpC7emOGlPY\n",
              "bQlW7DVZ7K7+RfQUItEaYYStPDLnt6iTs0LAGz5DYk3tGXQwouKPKuhxy+O5cNxUm+Uy+ehr/s4N\n",
              "rNmto14y5cheWf1s8v12fbrxGGhfGR849XAZFHmDr6gdCGY39y50iTcWZoJY1uTpvug/J2eg7RqZ\n",
              "tQ3N8Nq0dQRyy78S93Ex9w7siiYhYOogSH3lUt6brzKsVl+vrYokPwQ+aZxGD7d6BUgEbuCbTvWF\n",
              "Q9uJE4XapJ4cX2RCr2vwAAAAMEGeQXiM/380CHPz7QT6/QsihbqClVBLnhWkvh9CxRS23d28tKni\n",
              "aNB4YXbBIVC5gQAAACcBnmJqR39fxVAYcGP6YK+BQ2TNiBKtj3ZoScTGAwVHyBSQ0Dc91/gAAADK\n",
              "QZpnSahBaJlMCJ/zKQw97Y8B0JNbNkXHumnltLgT8AXeh/4rl88Vw7s3mPCZBEVtHFikYRXIr0hu\n",
              "WK0ry/vxf/g4wk0xQPGnKDW6nWCpuG3CJXwM7O+q+odM8F5tEZjHSuG67YagCDj0kSfN9L1iRqKR\n",
              "4sdrj278LB6Ey7/lJeQNaLbglV/YXgy4mgQzkC3O1YFIFwOSxhCQSGIdWEJirRH5B9/N1J16aNGI\n",
              "b3/+wyiDofXbVMMu/ZBRZqgRxIeaY0dxqtaQOw8bUwAAADlBnoVFESxXTDq7ezA6ftWc8AINiUlk\n",
              "ENRXDaqb6USaED8icNVwyE8khPJ+1vtGdDnDYdZl9nxrBCMAAAAbAZ6kdEd/VW/0GFmV+LJDkZ9Z\n",
              "zMYABLJRM7klAAAAJQGepmpHf1VwBVdwyYRnj1jv2cusVIe4uuqIUKnQ3Jz749py4S8AAAE5QZqr\n",
              "SahBbJlMCJ/zKWMyjtjwHQk1s2Rce6aTU2lwJ+ALvQ/8Vy+eK4Pt9qQiwMTL4jRwLHI6dzqytioY\n",
              "zk/7QyAoVWTDit+Oh71B8n47JVx74yv02BBglXHq41LuYH659m7ZNmc79+ntQarhOHqUAYM/ErNv\n",
              "3CoEhjJKC3Oohr7cSA3RvbBM0qXqMMZ7sbo+qiL4L2cIsHSULqpC+qiBVaEXX12G5AIAPV16aShH\n",
              "KwkNPUms39XaO8YLrsiajRdOjHfFkzkCtvmGsZc2MTZN5J2cLlQWmI7GX6BQ9G+rs0K5LhDjpC/7\n",
              "pLelKZBmyezVJuaslC3XOpgEX/98gwBaHle8TT0hUUjQpohp7UGcCKTAURn5VNDsY8n0gioHEHd3\n",
              "7nhXtZIYNAGia0IsZJdP3kneuX4jwTH0qAAAAFdBnslFFSxXSqM4LmyIeGNrijL+RR12ca1WNlOI\n",
              "WJ4qn+gjseIYimENSFAwpZYPnAUnuXmLAc5ABo3Uu9Bc7Eu8mCbSSFNrZMXuDErtSUO3tJjCsNmS\n",
              "jIAAAAAeAZ7odEd/U7aEKoPaiyf14I1NmvfjhZdTKoVJ7aj5AAAAOQGe6mpHf1KIIqg9qLJ/XlCs\n",
              "jPpqqRxam9cSYtjcG5GM+PYYrn2HVGDv8NzpviyAD7RNSsj5qj1LQAAAAK5BmuxJqEFsmUwIn/Mm\n",
              "TnDnOVUdQgwx4tJmt0VM6R/gRrv5PTFPZOoWchMdjXu2SN+uhpGAesF1Fi7G/3wFo/o7/Au867QA\n",
              "B6ePY+qWg1ZlXtbGlKNomWOmFrzNQC5kERlU4xVeqPWpUAmMGWrYVUZL8IzwoVHkTzWilnQL1Ljt\n",
              "cTcPHKF2o3Tn87k9bPTaTHhQ5QanWJOtoGcYmN3SPACWnGe3kjnC4ox4nvc53sAAAAEoQZsQSeEK\n",
              "UmUwJ//kUW7LsBhN8QcajBwlvtN6uStfBfCUtHV22/8DldVqzh7/RnBjUP64/duXly6rHtk1LKHl\n",
              "QlpJCw/ixNAIk58OrvI07xp5pdAxbxNC3Vz0x0K49kJTz9yiO4h9ETzUz1tO5Dt+wj2koZAWl7cU\n",
              "S2gWmuah6i1hcVrw1Of0HUSyA/jtVQKVLWwRrJa0YSxuiZJTdMW0pRrP7XEy2u0T7Z/aFSoU+3p7\n",
              "A5GVWMxm4ooEtlSVTDyJmDaiv3yEEVqq+DWaToToVzH1PsXvTqePpOoxcAYerojaieXYQwRg85fL\n",
              "gNTF4rcBxq8RS3SCzyiuY1CwtiCcDmAvsBfJCDFniZG5q0YSuF3xgpZH+L7vRiXpzULTZIUIfB1x\n",
              "TyJh62EAAABnQZ8uRTRMV0yquJmabbLzqZglqlUTSNBGQivF4yInQ2H85XK2+XQXUBRHlX6h7bn7\n",
              "ya/SNWKD1EnpEEQe7Mr4IPTlMrjAScZ72kPz3reBOkqzjHmAmrzf96c/rPX3hXNJ+7oLUJU4uQAA\n",
              "AEUBn010R39UWzVRghxTkHWkn+3+dYfx7YRUE3U3zdlt6crr2+tUu6ieEtMpNiztbOGuzNDaO5T8\n",
              "TA+LteDNHS9zK7VAH6EAAAA7AZ9Pakd/UqsL97g0mThQUsqPYaZ7+iQ785U6PuEKoqOSyAPMOryV\n",
              "uGOJdBJWwMEegf8yGWZ8URks564AAADkQZtRSahBaJlMCf/kUNkaqulsfgkAiyBpbXu3crrT3OUc\n",
              "TEmOlI9TBfjdZPkvBWvnq2DxqHbMwgA94QamFpvd0jf3vkzsAjTm2kt7+h+hgUm+MKfScaHB/PHw\n",
              "YYYTxWX8KE8wc6Q5v0prVEOGaDskUjumlXLnDs6xZahsHQf+Bm5VI7CLJPiQN7c3ZVD/cmHZUojq\n",
              "8HGtpls+a94gWCInjFCjzvwZ3yGFjgvG6X9Q186VGm51/VKJkx9qsIYwhyrYcpkwAbBa+JEE/ldj\n",
              "LCr2Vihn2lP6+BUaqf/ml2FqG0lPBud4AAAAzUGbcknhClJlMCf/5EydhJeOiC3F+c7bpEa0Twql\n",
              "HOuNZmaXZZvtxhwVxBeQeLEb1BbrXlJnA09y4RlRXVA1/IgfE0GGq4Pvo/A2n43V0qiU+sq/zuOV\n",
              "d6//+Rbargdf5KEwqgDFcwmxM/3I7aFgAFovZwZayRp7H2snZIJ8QHv4x3L1dH5D0YApp53NAv7r\n",
              "m7oBClfBmd3zqvrohhEW5BU8qUYqPc/aHGJnI7vp2Yn2WVwiMDViZU0IQed8VXUMu2LunksjbHqn\n",
              "91kercEAAACwQZuTSeEOiZTAn//kTJ2El46I/g1vL6gig+jV3qlnzGszNLuNgCQL8aOtkbTMMtaI\n",
              "nu+PJm53Qn+J7W+qMPeSjRwk0z2l8LE8trD3Kg89Dnnrq8vLbS7oYJfwsUGkgaT9e6PKpcv5CL+n\n",
              "L5+AGjfhqj1gmQdWe4UvDp+wNFw9uLScJDH1H9/8RLh/8o9PPR4SrjbL6zsbu5nzWjUoH0FoCKqd\n",
              "IxzUMcX3pzRvBoOnqugAAAE8QZu3SeEPJlMCf+RMnYSXCxH8EgvsEmPCpr/NHJuZCh9tyzO2ttOl\n",
              "2IzdvLUElw+2TdEYPOXsG9Pz7RBbtAfwmLU4X2Pmfcb5uYL91muq8isNW9pyXOzRUbTK2CK/R9Hm\n",
              "e4WmdXvRCkpaYMzrR4HVPbJZteeb93oQfjLTt01y3hn4yRcBYTD2+vPgKF4/6YYWCmzp1TmPnrwx\n",
              "k/+4zpX2ek8BZppNVqGDvFxwnACsos8zOwFdOl7vIfz68knJbt0xCQFIkCPIzFsfKik6IfGUmy1Y\n",
              "yPEEBCb5HGFMKgrsEg1IOCMMZT7hiqG/yv9QNpP/2bpxEsxJ7SQGz66+pNoMnKDUdN62zwPibCGj\n",
              "4qMtc+zwIvp07oieqRBg+MbyxLEUqKuQ3r5zWx5ZqkDnz0sPXTg4fccUJiL+VAe4PgAAAE9Bn9VF\n",
              "ETxXSfnM8V5Qr03Ws4OozpGAk8ogZZRfSdwo47XpPzL1zPyzFfd+fCeev03KPBBwZugdFTpQHt7O\n",
              "PZDoMnQNdfHUdKUYzWn+6ZOBAAAATQGf9HRHf1RuS8H84HQo6kRz0rme1H4MHb+FUPWsA/EzU3M/\n",
              "UHQdWxp3etpRwvDsFrIdCUf0SpH8Ne04Duz09iAEenRPc8C/p7+IX1yyAAAATQGf9mpHf1KrCe1V\n",
              "UTc+93oJNm1A89HL7x4jgyokEsU9fbLeOYvbwrQSamoKfzcFO5Y+0k5B5tC08UXGPVHQgVYlyPUS\n",
              "5rH8kzllt72xAAABJEGb+UmoQWiZTBTz/+RNA65JcLEfwSC+wSY8LlgSZyFeWemezgBTVQee8usO\n",
              "dFwize4wmKoc+7ZiHO9j98Yd1nHa3+6KplfkmRiS/9/7K1gCpETURgFK9zx573gHB43t8afl5JY5\n",
              "oQHMTro0nuenUtwtSpETr1WflgrBCF3/c1F24ieptgu7R1a49uImuGMR2zF3dm1DcDZl/vE9r74y\n",
              "iMMP0KP/RFbWwOOeg2FfuDq+14Yi8GVvQPjnSLMLSBWpJBgame8r3taMsqonOjd5F4E4H3o7tldz\n",
              "cVZsZp8VD8yBSnirUxOybgVzgcmu8zioY4yQNiAeiU5n/xUYJQtDrE7VdGoson9MrtKO42Ava9kd\n",
              "/Nceq9UGNECRi/424Gekfl/lTUEAAABDAZ4Yakd/Tu7qCFQjvpYXtoTC+R5QakvCsMSBHtK/N69+\n",
              "bOsFX9M+yApp/jpZwA+ViTwsWoMP0ifT00rHLA5oq/+wEAAAAUVBmh1J4QpSZTAl/4cemyKVVnfu\n",
              "tpDt/Pt2bpB7o4RRWtgx+V4qgndNQsak0iWbAh0GOtbfKOq1f8UJd77bWqgZzU4gdjJGNoj6kLQi\n",
              "3HcTkhkfArQBKMQ1cyFOa5UpvINCtXiuloP0CS4uWzqLHII7FbN/wQfGViYfBzxUsi3NP2T3uqXl\n",
              "OI2se5sFmPA7grKbA/dG/cYVagYS7gPBMDT33KKjjtF/XjKX4RvS8U++LsKDVTnHp7+GmK43oCx+\n",
              "n2g/C84JjM0PZJzFzmIUri2QE6gL5b1NuwvUu3Sz7kEqNGdxFfNo73Uhu2ec0tD4WpIE0tGPyUCp\n",
              "GrDBK6rvLqzXDVwv9tfRtlddTwY57nwa+i05MPYmNj6nH9R6Ht44UvwsQqkxBxRD+t3kuL+7z19Y\n",
              "r4VNpr8Wu6lnJkvGcUF/B5JBuo29AAAAbUGeO0U0TFdMHiYGVOtgy5p9TzpLUA7mUDqP6QMALhh7\n",
              "ZSaySV8rMMG4KIydJTkDbrMxft5IieoytI+p0IPSXg+v/PN4e3N+PbUq0N+vgpBGXMKexdvL0iFH\n",
              "gmR0cUiwiEv+NYtfNsFeJYIq3sAAAAA7AZ5adEd/VFw/cEKhHfVoFSkidQz0iPriC/z78grvpAyf\n",
              "DGhk6/FWCDYwOwkkhiMh7x4GdsOq3jIdj6EAAABQAZ5cakd/VRCoBecAUlXQOFva2KCpaTEJdvkb\n",
              "XiTqRAMWojl6CnuP81o3NZWAbC7AtfFtcOUUjvDyOX3hJE603P1XFsAAEh3wvucgjALPSwsAAAD2\n",
              "QZpBSahBaJlMC/8APkC8n78lcP4svi8qqMcnSD1t2LsGC8fzqWrovzeqp3Avpq4uzKhDAt+jmwiT\n",
              "w/4BlkteWXe/4PLZRmA0QGSoCHAEML1ejn4iyx97Os1n+5VORbd/lzf/SoXvGT/AvMFCU5giSv9Y\n",
              "OgIW5bMOsACXEXXM8ykepVgrgOhzE84Ld80Rfjl6SE0IdqYgF7S4rvpzCcQm+2rUzQwGstt9Jlxw\n",
              "3kj0id4fMB4GxLAdKrn9kJ7Tx+O5lqy0LaEHisg1iQI3kUb9dOuUqDubsqCun9h/OEPgz6ogTMVt\n",
              "wlH4jNSIIZpbjgqIeCgNW9huAAAAWEGef0URLFdKhOw3NL1IztWg3n02Kj/VTFJ+GJIWJOgJaGrp\n",
              "oQRBTMNYm5ukyeFR0w2lLBI7TGcQGx+sNiUqiKQmemwYP+tkoGgIdko1UWx35iReL+YQ2nAAAABG\n",
              "AZ6edEd/U7Zk6Ezz71uTaYy1EYiWU6XsU7SUOxNduhIXFqsjp2RvbqcNI1/qGmghdoqGz0ckx2iA\n",
              "/ni1IYsvlihLOBUPQQAAACkBnoBqR39ShiiPzWFojtyR3AkRiCj1veJ4sCbcyTLYvmFpDRshjoGV\n",
              "0AAAAB9BmoVJqEFsmUwL/wAJI8qnXCQP9ks+yZ2jW4amwxb1AAAAKkGeo0UVLFc0eHDQdIeFTNY5\n",
              "+psS0puru7pjxAnfkjGRt+LQQTo7kbFTWAAAABgBnsJ0R39UWrIYNJ86FdwwW0m3UYXP+HkAAAAX\n",
              "AZ7Eakd/UoUkprqWmQOrBvT4PZK9nekAAAC9QZrJSahBbJlMD/8AKCG/YFIPV5+YUEOLttfWtSTO\n",
              "5HBrFUD062o8HskZ9naSNi+20zKt4DLh7b972iVxrVswDk95FFLao8jtzrL8+CHxFenviyGZpxV3\n",
              "ipVQyeDVuavqx6yiePWU33mcpIX1CRq50Ixv2ruSJgif3uBCL1mEHiPxOtiUzZssS6mVgtCK+0CG\n",
              "JQ151fBbfgVYjPDX0h6ahcTZFKSvsmOiOprw/7HXxRzVYiSFapBeyTznRYOdAAAAYkGe50UVLFdM\n",
              "FX/HmdohTMuoE+AS3vG1Rluzy50HFq82WGq5y+yxsXIGd0xC3aC8GtTfG7ZXIOsxpCWuYCLazjQ/\n",
              "ts9tOqEIc6AvFaHXZgVqAKWZMQ3bcEKEnObdvStLUfK5AAAAJgGfBnRHf1RbQV8eXhn2+loUIaHJ\n",
              "po8KyunY18DEPcr5/kIX2K2IAAAAQwGfCGpHf1UOF3pyUyl3KLXo8yFGrekM5gdOzL6Sxiap/nte\n",
              "QhbPSAxXD8HK7DD/jskUa0Jh2+JXCbV7FhAwSU8GjR4AAAD4QZsMSahBbJlMCT8BUZcdiydMHWXk\n",
              "excwFZ871popUTzGdnWFYZfazf317na3AE+BvVfTLhTKySL/5cxJuf/bgQlmblImMOq77JM1PleJ\n",
              "sVP5fo/lCBoUg+wAu6J5e7bqz0o6jmRdK7TD9mwZDrN4WQOxh1CdhOgy/dmSM3vcQkBqpkZjNwp+\n",
              "mo48xqMZhIRMgAkG6HcgWQ8BMo1vM3IVlkH1pFHMx3Ik+RmKYMkhIbnrVzaQuuFa9d21qd5ZOvUj\n",
              "2L38Rwf0Ne+mAdZsG+GN4uSxA++/giy00fk9bbr3R3hy1w+fBknFRuy+w8/r4fGXqxjWSKA11r0A\n",
              "AABTQZ8qRRUsZ1JPzfd8r/V+mQCKSuknnZ1nUYL8VZoQazB/fHdQsf8yMGSoDH1CpxBkTjL6diFf\n",
              "r7WekjIo6EDaH5do/4ZM7UlMNKgbPUyfCmUKw8AAAABZAZ9Lakd/UulpgJgBQ2S08bV9DGZ2kEVM\n",
              "zb6dN474bjQxFtrPxOByf+VF7CmDU5EAPGmGHgk1h9arrXcCI0APWhuWbJrzYvUDXlG/L1hBlosJ\n",
              "9CdIrVCcYcAAAAD4QZtOSahBbJlMFEzfAeyWrPjV75sZc+KHSy7mOzgF1vDm2XNQF110wiqHte4h\n",
              "wX6pdrOkh+PH3ZXOBJsd1o6hguBHkFedZkIx0qd9FIOT8VFD/HGn7LqsydsqVXcM4YjtGfUmvM2M\n",
              "QsfwiBTvKEGkjsS8jEoJT3FdvYA3AFfuUTSlM7ePnUOYHWIy4ELLGUhPi3RU+5hi998XjRBWO5Pm\n",
              "WyVJIVx2XWnfv9LY08SQgBmP2YclCzPDCLV9LWfQLaR0ym2l3pKgA8PUE4+l5n85RrTZluJzscPV\n",
              "lXbTddaH9SmRWswuAxLJStRCCuZ7m0OenfZTV60cGKEAAABYAZ9takd/VbTDCyOJW+6favsHAzuL\n",
              "CjxdvdX85d066GxpLzfvMVEEdcXkx13ErMu115qDX9vmpFmWlXY3zlKVap/WkDoe3yLANIFjyipS\n",
              "KeRnnWAZOHR3QQAAAM9Bm3BJ4QpSZTBSxX8EcHu2BJy8coVzNKjNwGzQa/QTnifCAIqkz+kNfCqp\n",
              "q+2thr1AbtM7PVutB/38Bi6KTy12S6AQRucRQ9UygvGWD4nWDcza7Mp6g5/e2HL+4evR4Vexnd5l\n",
              "0JC/d09abSNqIoRD2QSd44K0pfpXZcGTZv2/gCOMQcBE5o3U0Hk3yE4iY6b/Ih8wcopf0TiniTLs\n",
              "CxkATz20WZR+SEi+Wf4eTh8bjcVcjPO1c2sQuz+ubZ6wX+nJ/c6gb0CxlxmeITjsq4EAAABiAZ+P\n",
              "akd/VFeP3A5/YkCsGbZxtL65TMwpmDRbKK1+TVolHCXEjBmo8Q70/JnVwTBRkyPq1X07KiZkTv+9\n",
              "OTn0PdAaMmTNjVc/ttbG1IvBrHwd26/2/0gnwouSwtRABpSNkaoAAACQQZuRSeEOiZTAjv8JJXaF\n",
              "BI5n9iQKwZtxBQOlZeDRwmJHZBDaTKPEsVj8ibHiwpCsMNbH3HQhYbAFX8j4dNw1wBSlQkfDkzHS\n",
              "j1/Pj+nxyDWgFpDgPH22Stix8p0skF65dceV0cKfl2f5+WPnSnSzx/HtuJlfs9IaxT3p6Yjlc4Ag\n",
              "nwL6a4N4tLsA6Ly26RHgAAAFZm1vb3YAAABsbXZoZAAAAAAAAAAAAAAAAAAAA+gAABOIAAEAAAEA\n",
              "AAAAAAAAAAAAAAABAAAAAAAAAAAAAAAAAAAAAQAAAAAAAAAAAAAAAAAAQAAAAAAAAAAAAAAAAAAA\n",
              "AAAAAAAAAAAAAAAAAAAAAAIAAASQdHJhawAAAFx0a2hkAAAAAwAAAAAAAAAAAAAAAQAAAAAAABOI\n",
              "AAAAAAAAAAAAAAAAAAAAAAABAAAAAAAAAAAAAAAAAAAAAQAAAAAAAAAAAAAAAAAAQAAAAACQAAAB\n",
              "IAAAAAAAJGVkdHMAAAAcZWxzdAAAAAAAAAABAAATiAAACAAAAQAAAAAECG1kaWEAAAAgbWRoZAAA\n",
              "AAAAAAAAAAAAAAAAKAAAAMgAVcQAAAAAAC1oZGxyAAAAAAAAAAB2aWRlAAAAAAAAAAAAAAAAVmlk\n",
              "ZW9IYW5kbGVyAAAAA7NtaW5mAAAAFHZtaGQAAAABAAAAAAAAAAAAAAAkZGluZgAAABxkcmVmAAAA\n",
              "AAAAAAEAAAAMdXJsIAAAAAEAAANzc3RibAAAALNzdHNkAAAAAAAAAAEAAACjYXZjMQAAAAAAAAAB\n",
              "AAAAAAAAAAAAAAAAAAAAAACQASAASAAAAEgAAAAAAAAAAQAAAAAAAAAAAAAAAAAAAAAAAAAAAAAA\n",
              "AAAAAAAAAAAAABj//wAAADFhdmNDAWQAC//hABhnZAALrNlCQloQAAADABAAAAMBQPFCmWABAAZo\n",
              "6+PLIsAAAAAcdXVpZGtoQPJfJE/FujmlG88DI/MAAAAAAAAAGHN0dHMAAAAAAAAAAQAAADIAAAQA\n",
              "AAAAFHN0c3MAAAAAAAAAAQAAAAEAAAGAY3R0cwAAAAAAAAAuAAAAAQAACAAAAAABAAAQAAAAAAIA\n",
              "AAQAAAAAAQAAFAAAAAABAAAIAAAAAAEAAAAAAAAAAQAABAAAAAABAAAUAAAAAAEAAAgAAAAAAQAA\n",
              "AAAAAAABAAAEAAAAAAEAAAgAAAAAAQAAFAAAAAABAAAIAAAAAAEAAAAAAAAAAQAABAAAAAADAAAI\n",
              "AAAAAAEAABQAAAAAAQAACAAAAAABAAAAAAAAAAEAAAQAAAAAAQAADAAAAAABAAAEAAAAAAEAABQA\n",
              "AAAAAQAACAAAAAABAAAAAAAAAAEAAAQAAAAAAQAAFAAAAAABAAAIAAAAAAEAAAAAAAAAAQAABAAA\n",
              "AAABAAAUAAAAAAEAAAgAAAAAAQAAAAAAAAABAAAEAAAAAAEAABQAAAAAAQAACAAAAAABAAAAAAAA\n",
              "AAEAAAQAAAAAAQAAEAAAAAACAAAEAAAAAAEAAAwAAAAAAQAABAAAAAABAAAMAAAAAAEAAAQAAAAA\n",
              "AQAACAAAAAAcc3RzYwAAAAAAAAABAAAAAQAAADIAAAABAAAA3HN0c3oAAAAAAAAAAAAAADIAABQ3\n",
              "AAACKQAAADQAAAArAAAAzgAAAD0AAAAfAAAAKQAAAT0AAABbAAAAIgAAAD0AAACyAAABLAAAAGsA\n",
              "AABJAAAAPwAAAOgAAADRAAAAtAAAAUAAAABTAAAAUQAAAFEAAAEoAAAARwAAAUkAAABxAAAAPwAA\n",
              "AFQAAAD6AAAAXAAAAEoAAAAtAAAAIwAAAC4AAAAcAAAAGwAAAMEAAABmAAAAKgAAAEcAAAD8AAAA\n",
              "VwAAAF0AAAD8AAAAXAAAANMAAABmAAAAlAAAABRzdGNvAAAAAAAAAAEAAAAsAAAAYnVkdGEAAABa\n",
              "bWV0YQAAAAAAAAAhaGRscgAAAAAAAAAAbWRpcmFwcGwAAAAAAAAAAAAAAAAtaWxzdAAAACWpdG9v\n",
              "AAAAHWRhdGEAAAABAAAAAExhdmY1Ny44My4xMDA=\n",
              "\">\n",
              "  Your browser does not support the video tag.\n",
              "</video>"
            ],
            "text/plain": [
              "<IPython.core.display.HTML object>"
            ]
          },
          "metadata": {
            "tags": []
          },
          "execution_count": 9
        },
        {
          "output_type": "display_data",
          "data": {
            "image/png": "[encoded data removed]",
            "text/plain": [
              "<Figure size 144x288 with 1 Axes>"
            ]
          },
          "metadata": {
            "tags": [],
            "needs_background": "light"
          }
        }
      ]
    },
    {
      "cell_type": "markdown",
      "metadata": {
        "id": "IsBnTdXiVI9D"
      },
      "source": [
        "## Comparison"
      ]
    },
    {
      "cell_type": "code",
      "metadata": {
        "colab": {
          "base_uri": "https://localhost:8080/",
          "height": 241
        },
        "id": "GGjO4Mq3VI9E",
        "outputId": "5ee12919-159d-46e3-a8d0-344371dbe274"
      },
      "source": [
        "fig, ax = plt.subplots(figsize=(5,3))\n",
        "ctrl.get_time_history_plt(ax)\n",
        "tmd.get_time_history_plt(ax)\n",
        "plt.legend()\n",
        "plt.show()"
      ],
      "execution_count": 10,
      "outputs": [
        {
          "output_type": "display_data",
          "data": {
            "image/png": "[encoded data removed]",
            "text/plain": [
              "<Figure size 360x216 with 1 Axes>"
            ]
          },
          "metadata": {
            "tags": [],
            "needs_background": "light"
          }
        }
      ]
    },
    {
      "cell_type": "code",
      "metadata": {
        "id": "THtawQakVI9E"
      },
      "source": [
        ""
      ],
      "execution_count": null,
      "outputs": []
    }
  ]
}