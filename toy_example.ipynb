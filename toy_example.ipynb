{
 "metadata": {
  "language_info": {
   "codemirror_mode": {
    "name": "ipython",
    "version": 3
   },
   "file_extension": ".py",
   "mimetype": "text/x-python",
   "name": "python",
   "nbconvert_exporter": "python",
   "pygments_lexer": "ipython3",
   "version": "3.8.5"
  },
  "orig_nbformat": 2,
  "kernelspec": {
   "name": "python385jvsc74a57bd0b3ba2566441a7c06988d0923437866b63cedc61552a5af99d1f4fb67d367b25f",
   "display_name": "Python 3.8.5 64-bit (conda)"
  }
 },
 "nbformat": 4,
 "nbformat_minor": 2,
 "cells": [
  {
   "source": [
    "<h1>Tuned-Mass Damper Toy"
   ],
   "cell_type": "markdown",
   "metadata": {}
  },
  {
   "source": [
    "<h2> Setup"
   ],
   "cell_type": "markdown",
   "metadata": {}
  },
  {
   "source": [
    "<h3> Import packages"
   ],
   "cell_type": "markdown",
   "metadata": {}
  },
  {
   "cell_type": "code",
   "execution_count": 15,
   "metadata": {},
   "outputs": [
    {
     "output_type": "stream",
     "name": "stdout",
     "text": [
      "The autoreload extension is already loaded. To reload it, use:\n  %reload_ext autoreload\n"
     ]
    }
   ],
   "source": [
    "%matplotlib ipympl\n",
    "%load_ext autoreload\n",
    "%reload_ext autoreload\n",
    "%autoreload 2\n",
    "\n",
    "import numpy as np\n",
    "import pandas as pd\n",
    "import ipympl\n",
    "import math\n",
    "import matplotlib.pyplot as plt\n",
    "import matplotlib.animation as animation\n",
    "import time\n",
    "from lumped_mass_stick_modeler import LumpedMassStickModel\n",
    "\n"
   ]
  },
  {
   "source": [
    "<h2> Simple example"
   ],
   "cell_type": "markdown",
   "metadata": {}
  },
  {
   "cell_type": "code",
   "execution_count": 16,
   "metadata": {},
   "outputs": [
    {
     "output_type": "display_data",
     "data": {
      "text/plain": "Canvas(toolbar=Toolbar(toolitems=[('Home', 'Reset original view', 'home', 'home'), ('Back', 'Back to previous …",
      "application/vnd.jupyter.widget-view+json": {
       "version_major": 2,
       "version_minor": 0,
       "model_id": "2aabe5e68ada4d00a8555d3b64e0292f"
      }
     },
     "metadata": {}
    },
    {
     "output_type": "execute_result",
     "data": {
      "text/plain": [
       "[<matplotlib.lines.Line2D at 0x1fe72b47430>]"
      ]
     },
     "metadata": {},
     "execution_count": 16
    }
   ],
   "source": [
    "# define loading with 1 sec time step\n",
    "dt = 1\n",
    "loadings = [\n",
    "    [1,0,-1,0,1],\n",
    "    [0,0,0,0,0]\n",
    "]\n",
    "plt.figure(figsize=(5,2))\n",
    "plt.title('Example - Mass 1 Loading')\n",
    "plt.plot(loadings[0])"
   ]
  },
  {
   "cell_type": "code",
   "execution_count": 17,
   "metadata": {},
   "outputs": [
    {
     "output_type": "display_data",
     "data": {
      "text/plain": "Canvas(toolbar=Toolbar(toolitems=[('Home', 'Reset original view', 'home', 'home'), ('Back', 'Back to previous …",
      "application/vnd.jupyter.widget-view+json": {
       "version_major": 2,
       "version_minor": 0,
       "model_id": "3d3ba56c3e7f41c69e64e8e26d1297f0"
      }
     },
     "metadata": {}
    }
   ],
   "source": [
    "# create 2DOF model with m=1, k=1, and c=1\n",
    "example = LumpedMassStickModel([1,1],[1,1],[1,1],loadings, timestep=dt, name='Example')\n",
    "\n",
    "# plot first mass' first mode displacements\n",
    "fig, ax = plt.subplots(figsize=(4,2))\n",
    "example.get_time_history_plt(ax, node=0, motion='disp')\n",
    "example.get_time_history_plt(ax, node=1, motion='disp')\n",
    "plt.show()"
   ]
  },
  {
   "cell_type": "code",
   "execution_count": 18,
   "metadata": {},
   "outputs": [
    {
     "output_type": "display_data",
     "data": {
      "text/plain": "Canvas(toolbar=Toolbar(toolitems=[('Home', 'Reset original view', 'home', 'home'), ('Back', 'Back to previous …",
      "application/vnd.jupyter.widget-view+json": {
       "version_major": 2,
       "version_minor": 0,
       "model_id": "b83e9b8f850a42a39b124696e094fb25"
      }
     },
     "metadata": {}
    }
   ],
   "source": [
    "fig, axs = plt.subplots(1,1, figsize=(3,4))\n",
    "ani = example.get_animation(fig=fig,ax=axs)\n",
    "plt.show()"
   ]
  },
  {
   "cell_type": "code",
   "execution_count": null,
   "metadata": {},
   "outputs": [],
   "source": []
  },
  {
   "source": [
    "<h2> Define loading paramaters"
   ],
   "cell_type": "markdown",
   "metadata": {}
  },
  {
   "cell_type": "code",
   "execution_count": 19,
   "metadata": {},
   "outputs": [
    {
     "output_type": "display_data",
     "data": {
      "text/plain": "Canvas(toolbar=Toolbar(toolitems=[('Home', 'Reset original view', 'home', 'home'), ('Back', 'Back to previous …",
      "application/vnd.jupyter.widget-view+json": {
       "version_major": 2,
       "version_minor": 0,
       "model_id": "482b6b899be14ffaa6f122c5b72d1206"
      }
     },
     "metadata": {}
    }
   ],
   "source": [
    "# time paramaters\n",
    "tmax = 60\n",
    "dt = 0.1\n",
    "steps = int(tmax/dt)\n",
    "t = np.arange(steps) * dt\n",
    "\n",
    "# load paramaters\n",
    "fp = 0.15\n",
    "psin = 1*np.sin(2*math.pi*fp*t)\n",
    "pzero = 0*t\n",
    "\n",
    "# excite the first mass\n",
    "p_mat = [psin]\n",
    "fig, ax = plt.subplots(1,1, figsize=(4,2))\n",
    "ax.set_title('Loading')\n",
    "plt.plot(t, psin)\n",
    "plt.show()"
   ]
  },
  {
   "source": [
    "<h2> Control model"
   ],
   "cell_type": "markdown",
   "metadata": {}
  },
  {
   "cell_type": "code",
   "execution_count": 20,
   "metadata": {},
   "outputs": [
    {
     "output_type": "display_data",
     "data": {
      "text/plain": "Canvas(toolbar=Toolbar(toolitems=[('Home', 'Reset original view', 'home', 'home'), ('Back', 'Back to previous …",
      "application/vnd.jupyter.widget-view+json": {
       "version_major": 2,
       "version_minor": 0,
       "model_id": "59e46c68b2c647f581890de285bd7b0d"
      }
     },
     "metadata": {}
    }
   ],
   "source": [
    "# model input\n",
    "m = 1\n",
    "k = 1\n",
    "xi = 0.05\n",
    "wn = math.sqrt(k/m)\n",
    "c = 2*xi*wn*m\n",
    "\n",
    "# define model\n",
    "ctrl = LumpedMassStickModel([m], [k], [c], [psin], dt, name='Control')\n",
    "\n",
    "# plot anaimation\n",
    "fig, axs = plt.subplots(1,1, figsize=(2,4))\n",
    "ani = ctrl.get_animation(fig=fig,ax=axs,mode=0)\n",
    "plt.show()"
   ]
  },
  {
   "source": [
    "<h2> Tuned mass damper"
   ],
   "cell_type": "markdown",
   "metadata": {}
  },
  {
   "cell_type": "code",
   "execution_count": 22,
   "metadata": {},
   "outputs": [],
   "source": [
    "md = 0.05*m\n",
    "mbar = md/m\n",
    "fopt = math.sqrt(1-.5*mbar)/(1+mbar)\n",
    "xidopt = math.sqrt(\n",
    "    mbar*(3-math.sqrt(.5*mbar))/\n",
    "    (8*(1+mbar)*(1-.05*mbar))\n",
    ")\n",
    "kd = mbar*fopt**2*k\n",
    "wnd = math.sqrt(kd/md)\n",
    "cd = 2*xidopt*wnd*md"
   ]
  },
  {
   "cell_type": "code",
   "execution_count": 23,
   "metadata": {},
   "outputs": [
    {
     "output_type": "display_data",
     "data": {
      "text/plain": "Canvas(toolbar=Toolbar(toolitems=[('Home', 'Reset original view', 'home', 'home'), ('Back', 'Back to previous …",
      "application/vnd.jupyter.widget-view+json": {
       "version_major": 2,
       "version_minor": 0,
       "model_id": "da0594050dce402b86b82a584ff99bcf"
      }
     },
     "metadata": {}
    }
   ],
   "source": [
    "tmd = LumpedMassStickModel([m, md], [k, kd], [c, cd], [psin, pzero], dt, name=\"Tuned-Mass Damper\")\n",
    "\n",
    "# plot anaimation\n",
    "fig, axs = plt.subplots(1,1, figsize=(2,4))\n",
    "ani = tmd.get_animation(mode=0,fig=fig,ax=axs)\n",
    "plt.show()"
   ]
  },
  {
   "source": [
    "<h2> Comparison"
   ],
   "cell_type": "markdown",
   "metadata": {}
  },
  {
   "cell_type": "code",
   "execution_count": 76,
   "metadata": {},
   "outputs": [
    {
     "output_type": "display_data",
     "data": {
      "text/plain": "Canvas(toolbar=Toolbar(toolitems=[('Home', 'Reset original view', 'home', 'home'), ('Back', 'Back to previous …",
      "application/vnd.jupyter.widget-view+json": {
       "version_major": 2,
       "version_minor": 0,
       "model_id": "fdd855f8576141e1a4b43e54fea94ab6"
      }
     },
     "metadata": {}
    }
   ],
   "source": [
    "fig, ax = plt.subplots(figsize=(5,3))\n",
    "ctrl.get_time_history_plt(ax)\n",
    "tmd.get_time_history_plt(ax)\n",
    "plt.legend()\n",
    "plt.show()"
   ]
  },
  {
   "cell_type": "code",
   "execution_count": null,
   "metadata": {},
   "outputs": [],
   "source": []
  }
 ]
}